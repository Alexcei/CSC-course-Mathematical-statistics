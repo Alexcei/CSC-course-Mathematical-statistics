{
 "cells": [
  {
   "cell_type": "markdown",
   "metadata": {},
   "source": [
    "# Решения задач курса CSC [\"Математическая статистика\"](https://stepik.org/course/326)"
   ]
  },
  {
   "cell_type": "code",
   "execution_count": 2,
   "metadata": {},
   "outputs": [],
   "source": [
    "import warnings\n",
    "warnings.simplefilter('ignore')\n",
    "\n",
    "%matplotlib inline\n",
    "\n",
    "import pandas as pd\n",
    "import numpy as np\n",
    "import matplotlib.pyplot as plt\n",
    "import seaborn as sns\n",
    "import math\n",
    "\n",
    "from scipy.stats import norm, chi2, t, f, kstest, jarque_bera, anderson, shapiro, probplot, kendalltau, pearsonr\n"
   ]
  },
  {
   "cell_type": "markdown",
   "metadata": {},
   "source": [
    "## 1. Выборка. Описательная статистика\n",
    "### 1.4. Описательная статистика\n",
    "#### 1.4.12"
   ]
  },
  {
   "cell_type": "code",
   "execution_count": 4,
   "metadata": {},
   "outputs": [
    {
     "name": "stdout",
     "output_type": "stream",
     "text": [
      "22.71, 2.00, 22.00, 21.00, 24.00\n"
     ]
    }
   ],
   "source": [
    "data = [23, 24, 21, 23, 22, 21, 20, 21, 28, 25, 22, 22, 25, 21]\n",
    "\n",
    "data.sort()\n",
    "n = len(data)\n",
    "D = 0\n",
    "\n",
    "X_mean = sum(data) / n\n",
    "med = (data[n // 2] + data[(n + 1) // 2]) / 2\n",
    "Q_1 = data[int((n * 0.25) // 1)]\n",
    "Q_3 = data[int((n * 0.75) // 1)]\n",
    "\n",
    "for i in range(0, n):\n",
    "    D = (data[i] - X_mean) ** 2 / n\n",
    "\n",
    "print('{:.2f}, {:.2f}, {:.2f}, {:.2f}, {:.2f}'. format(X_mean, D, med, Q_1, Q_3))\n"
   ]
  },
  {
   "cell_type": "markdown",
   "metadata": {},
   "source": [
    "### 1.5. Задание на тему описательной статистики\n",
    "#### Задача \"13-е число\"\n",
    "\n",
    "    Правда ли, что пятница 13е неудачный день?\n",
    "\n",
    "    Воспользуйтесь данными из файла  13_6  и попробуйте ответить на вопросы, исходя из данных по числу покупателей по пятницам 6-го и 13-го. Проведите описательный анализ.\n",
    "\n",
    "    Формат файла:\n",
    "        - тип данных\n",
    "        - год и месяц\n",
    "        - число покупателей в пятницу 6-го\n",
    "        - число покупателей в пятницу 13-го\n",
    "        - супермаркет\n",
    "\n",
    "#### 1.5.4"
   ]
  },
  {
   "cell_type": "code",
   "execution_count": 5,
   "metadata": {},
   "outputs": [
    {
     "data": {
      "text/html": [
       "<div>\n",
       "<style scoped>\n",
       "    .dataframe tbody tr th:only-of-type {\n",
       "        vertical-align: middle;\n",
       "    }\n",
       "\n",
       "    .dataframe tbody tr th {\n",
       "        vertical-align: top;\n",
       "    }\n",
       "\n",
       "    .dataframe thead th {\n",
       "        text-align: right;\n",
       "    }\n",
       "</style>\n",
       "<table border=\"1\" class=\"dataframe\">\n",
       "  <thead>\n",
       "    <tr style=\"text-align: right;\">\n",
       "      <th></th>\n",
       "      <th>action</th>\n",
       "      <th>month</th>\n",
       "      <th>6-th</th>\n",
       "      <th>13-th</th>\n",
       "      <th>city</th>\n",
       "    </tr>\n",
       "  </thead>\n",
       "  <tbody>\n",
       "    <tr>\n",
       "      <td>0</td>\n",
       "      <td>shopping</td>\n",
       "      <td>1990, July</td>\n",
       "      <td>4942</td>\n",
       "      <td>4882</td>\n",
       "      <td>Epsom</td>\n",
       "    </tr>\n",
       "    <tr>\n",
       "      <td>1</td>\n",
       "      <td>shopping</td>\n",
       "      <td>1991, September</td>\n",
       "      <td>4895</td>\n",
       "      <td>4736</td>\n",
       "      <td>Epsom</td>\n",
       "    </tr>\n",
       "    <tr>\n",
       "      <td>2</td>\n",
       "      <td>shopping</td>\n",
       "      <td>1991, December</td>\n",
       "      <td>4805</td>\n",
       "      <td>4784</td>\n",
       "      <td>Epsom</td>\n",
       "    </tr>\n",
       "    <tr>\n",
       "      <td>3</td>\n",
       "      <td>shopping</td>\n",
       "      <td>1992, March</td>\n",
       "      <td>4570</td>\n",
       "      <td>4603</td>\n",
       "      <td>Epsom</td>\n",
       "    </tr>\n",
       "    <tr>\n",
       "      <td>4</td>\n",
       "      <td>shopping</td>\n",
       "      <td>1992, November</td>\n",
       "      <td>4506</td>\n",
       "      <td>4629</td>\n",
       "      <td>Epsom</td>\n",
       "    </tr>\n",
       "  </tbody>\n",
       "</table>\n",
       "</div>"
      ],
      "text/plain": [
       "     action            month  6-th  13-th   city\n",
       "0  shopping       1990, July  4942   4882  Epsom\n",
       "1  shopping  1991, September  4895   4736  Epsom\n",
       "2  shopping   1991, December  4805   4784  Epsom\n",
       "3  shopping      1992, March  4570   4603  Epsom\n",
       "4  shopping   1992, November  4506   4629  Epsom"
      ]
     },
     "execution_count": 5,
     "metadata": {},
     "output_type": "execute_result"
    }
   ],
   "source": [
    "df = pd.read_csv('13_6.csv', header=None, delimiter=\"\\t\")\n",
    "df.columns = ['action', 'month', '6-th', '13-th', 'city']\n",
    "df.head()\n"
   ]
  },
  {
   "cell_type": "code",
   "execution_count": 6,
   "metadata": {},
   "outputs": [
    {
     "name": "stdout",
     "output_type": "stream",
     "text": [
      "5017.0, 4736.0, 1345096.1\n"
     ]
    }
   ],
   "source": [
    "df = df.sort_values(by=['13-th']).reset_index(drop=True)\n",
    "n = df.shape[0]\n",
    "D = 0\n",
    "\n",
    "X_mean = sum(df['13-th'])/n\n",
    "\n",
    "if n % 2 == 1:\n",
    "    med = df['13-th'][(n // 2)]\n",
    "else:\n",
    "    med = (df['13-th'][(n // 2)] + df['13-th'][(n // 2 + 1)]) / 2\n",
    "    \n",
    "D = np.sum((df['13-th'] - df['13-th'].mean())**2) / n            # смещенная оценка дисперсии\n",
    "\n",
    "print('{:.1f}, {:.1f}, {:.1f}'.format(X_mean, med, D))\n"
   ]
  },
  {
   "cell_type": "markdown",
   "metadata": {},
   "source": [
    "#### 1.5.5"
   ]
  },
  {
   "cell_type": "code",
   "execution_count": 7,
   "metadata": {},
   "outputs": [
    {
     "name": "stdout",
     "output_type": "stream",
     "text": [
      "Выборочная дисперсия колонки differ: 30618.5283\n",
      "46.49, 4.96, 1.47\n"
     ]
    }
   ],
   "source": [
    "D = 0\n",
    "mu_3 = 0\n",
    "mu_4 = 0\n",
    "\n",
    "df['differ'] = df['13-th'] - df['6-th']\n",
    "X_mean = sum(df['differ'])/n\n",
    "D = np.sum((df['differ'] - X_mean) ** 2 / n)\n",
    "mu_3 = np.sum((df['differ'] - X_mean) ** 3 / n)\n",
    "mu_4 = np.sum((df['differ'] - X_mean) ** 4 / n)\n",
    "s = math.sqrt(D)\n",
    "S_k1 = mu_3 / (s ** 3)\n",
    "K = mu_4 / (s ** 4) - 3\n",
    "\n",
    "print('Выборочная дисперсия колонки {}: {:.4f}'.format('differ',df['differ'].var()))\n",
    "print('{:.2f}, {:.2f}, {:.2f}'. format(X_mean, K, S_k1))\n"
   ]
  },
  {
   "cell_type": "markdown",
   "metadata": {},
   "source": [
    "#### 1.5.6"
   ]
  },
  {
   "cell_type": "code",
   "execution_count": 8,
   "metadata": {},
   "outputs": [
    {
     "name": "stdout",
     "output_type": "stream",
     "text": [
      "Медиана differ: 11.00\n"
     ]
    },
    {
     "data": {
      "text/html": [
       "<div>\n",
       "<style scoped>\n",
       "    .dataframe tbody tr th:only-of-type {\n",
       "        vertical-align: middle;\n",
       "    }\n",
       "\n",
       "    .dataframe tbody tr th {\n",
       "        vertical-align: top;\n",
       "    }\n",
       "\n",
       "    .dataframe thead th {\n",
       "        text-align: right;\n",
       "    }\n",
       "</style>\n",
       "<table border=\"1\" class=\"dataframe\">\n",
       "  <thead>\n",
       "    <tr style=\"text-align: right;\">\n",
       "      <th></th>\n",
       "      <th>6-th</th>\n",
       "      <th>13-th</th>\n",
       "      <th>differ</th>\n",
       "    </tr>\n",
       "  </thead>\n",
       "  <tbody>\n",
       "    <tr>\n",
       "      <td>count</td>\n",
       "      <td>45.000000</td>\n",
       "      <td>45.000000</td>\n",
       "      <td>45.000000</td>\n",
       "    </tr>\n",
       "    <tr>\n",
       "      <td>mean</td>\n",
       "      <td>4970.511111</td>\n",
       "      <td>5017.000000</td>\n",
       "      <td>46.488889</td>\n",
       "    </tr>\n",
       "    <tr>\n",
       "      <td>std</td>\n",
       "      <td>1165.615456</td>\n",
       "      <td>1172.888083</td>\n",
       "      <td>174.981508</td>\n",
       "    </tr>\n",
       "    <tr>\n",
       "      <td>min</td>\n",
       "      <td>3558.000000</td>\n",
       "      <td>3554.000000</td>\n",
       "      <td>-302.000000</td>\n",
       "    </tr>\n",
       "    <tr>\n",
       "      <td>25%</td>\n",
       "      <td>3954.000000</td>\n",
       "      <td>3926.000000</td>\n",
       "      <td>-47.000000</td>\n",
       "    </tr>\n",
       "    <tr>\n",
       "      <td>50%</td>\n",
       "      <td>4805.000000</td>\n",
       "      <td>4736.000000</td>\n",
       "      <td>11.000000</td>\n",
       "    </tr>\n",
       "    <tr>\n",
       "      <td>75%</td>\n",
       "      <td>6026.000000</td>\n",
       "      <td>6162.000000</td>\n",
       "      <td>136.000000</td>\n",
       "    </tr>\n",
       "    <tr>\n",
       "      <td>max</td>\n",
       "      <td>7138.000000</td>\n",
       "      <td>7057.000000</td>\n",
       "      <td>774.000000</td>\n",
       "    </tr>\n",
       "  </tbody>\n",
       "</table>\n",
       "</div>"
      ],
      "text/plain": [
       "              6-th        13-th      differ\n",
       "count    45.000000    45.000000   45.000000\n",
       "mean   4970.511111  5017.000000   46.488889\n",
       "std    1165.615456  1172.888083  174.981508\n",
       "min    3558.000000  3554.000000 -302.000000\n",
       "25%    3954.000000  3926.000000  -47.000000\n",
       "50%    4805.000000  4736.000000   11.000000\n",
       "75%    6026.000000  6162.000000  136.000000\n",
       "max    7138.000000  7057.000000  774.000000"
      ]
     },
     "execution_count": 8,
     "metadata": {},
     "output_type": "execute_result"
    }
   ],
   "source": [
    "print('Медиана {}: {:.2f}'.format('differ', df['differ'].median()))\n",
    "df.describe()\n"
   ]
  },
  {
   "cell_type": "code",
   "execution_count": 9,
   "metadata": {},
   "outputs": [
    {
     "data": {
      "image/png": "[encoded data removed]",
      "text/plain": [
       "<Figure size 1080x360 with 2 Axes>"
      ]
     },
     "metadata": {
      "needs_background": "light"
     },
     "output_type": "display_data"
    },
    {
     "data": {
      "image/png": "[encoded data removed]",
      "text/plain": [
       "<Figure size 1080x360 with 2 Axes>"
      ]
     },
     "metadata": {
      "needs_background": "light"
     },
     "output_type": "display_data"
    },
    {
     "data": {
      "image/png": "[encoded data removed]",
      "text/plain": [
       "<Figure size 1080x360 with 2 Axes>"
      ]
     },
     "metadata": {
      "needs_background": "light"
     },
     "output_type": "display_data"
    }
   ],
   "source": [
    "plt.figure(figsize=(15, 5))\n",
    "\n",
    "plt.subplot(1,2,1)\n",
    "sns.distplot(df['differ'], hist=True)\n",
    "plt.subplot(1,2,2)\n",
    "sns.boxplot(df['differ'])\n",
    "\n",
    "plt.show()\n",
    "\n",
    "\n",
    "plt.figure(figsize=(15, 5))\n",
    "\n",
    "plt.subplot(1,2,1)\n",
    "sns.distplot(df['6-th'], hist=True)\n",
    "plt.subplot(1,2,2)\n",
    "sns.distplot(df['13-th'], hist=True)\n",
    "\n",
    "plt.show()\n",
    "\n",
    "\n",
    "plt.figure(figsize=(15, 5))\n",
    "\n",
    "plt.subplot(1,2,1)\n",
    "sns.boxplot(df['6-th'], orient='v')\n",
    "plt.subplot(1,2,2)\n",
    "sns.boxplot(df['13-th'], orient='v')\n",
    "\n",
    "plt.show()\n"
   ]
  },
  {
   "cell_type": "markdown",
   "metadata": {},
   "source": [
    "#### Задача \"Колледжи\"\n",
    "\n",
    "    - School - название школы\n",
    "    - School_Type - тип школы (школа искусств  'Lib Arts', исследовательский университет 'Univ')\n",
    "    - SAT - медиана объединенных значений Math и Verbal SAT  студентов\n",
    "    - Acceptance - % принятых абитуриентов\n",
    "    - $\\$$ /Student  -  Деньги, расходуемые на одного студента в среднем\n",
    "    - Top 10% -  % студентов в топ 10% выпускных классов\n",
    "    - %PhD -  %  факультетов, имеющих PhD\n",
    "    - Grad% - % студентов, которые успешно завершили обучение\n",
    "    \n",
    "#### 1.5.9"
   ]
  },
  {
   "cell_type": "code",
   "execution_count": 10,
   "metadata": {},
   "outputs": [
    {
     "data": {
      "text/html": [
       "<div>\n",
       "<style scoped>\n",
       "    .dataframe tbody tr th:only-of-type {\n",
       "        vertical-align: middle;\n",
       "    }\n",
       "\n",
       "    .dataframe tbody tr th {\n",
       "        vertical-align: top;\n",
       "    }\n",
       "\n",
       "    .dataframe thead th {\n",
       "        text-align: right;\n",
       "    }\n",
       "</style>\n",
       "<table border=\"1\" class=\"dataframe\">\n",
       "  <thead>\n",
       "    <tr style=\"text-align: right;\">\n",
       "      <th></th>\n",
       "      <th>School</th>\n",
       "      <th>School_Type</th>\n",
       "      <th>SAT</th>\n",
       "      <th>Acceptance</th>\n",
       "      <th>$/Student</th>\n",
       "      <th>Top 10%</th>\n",
       "      <th>%PhD</th>\n",
       "      <th>Grad%</th>\n",
       "    </tr>\n",
       "  </thead>\n",
       "  <tbody>\n",
       "    <tr>\n",
       "      <td>0</td>\n",
       "      <td>Amherst</td>\n",
       "      <td>Lib Arts</td>\n",
       "      <td>1315</td>\n",
       "      <td>22</td>\n",
       "      <td>26636</td>\n",
       "      <td>85</td>\n",
       "      <td>81</td>\n",
       "      <td>93</td>\n",
       "    </tr>\n",
       "    <tr>\n",
       "      <td>1</td>\n",
       "      <td>Swarthmore</td>\n",
       "      <td>Lib Arts</td>\n",
       "      <td>1310</td>\n",
       "      <td>24</td>\n",
       "      <td>27487</td>\n",
       "      <td>78</td>\n",
       "      <td>93</td>\n",
       "      <td>88</td>\n",
       "    </tr>\n",
       "    <tr>\n",
       "      <td>2</td>\n",
       "      <td>Williams</td>\n",
       "      <td>Lib Arts</td>\n",
       "      <td>1336</td>\n",
       "      <td>28</td>\n",
       "      <td>23772</td>\n",
       "      <td>86</td>\n",
       "      <td>90</td>\n",
       "      <td>93</td>\n",
       "    </tr>\n",
       "    <tr>\n",
       "      <td>3</td>\n",
       "      <td>Bowdoin</td>\n",
       "      <td>Lib Arts</td>\n",
       "      <td>1300</td>\n",
       "      <td>24</td>\n",
       "      <td>25703</td>\n",
       "      <td>78</td>\n",
       "      <td>95</td>\n",
       "      <td>90</td>\n",
       "    </tr>\n",
       "    <tr>\n",
       "      <td>4</td>\n",
       "      <td>Wellesley</td>\n",
       "      <td>Lib Arts</td>\n",
       "      <td>1250</td>\n",
       "      <td>49</td>\n",
       "      <td>27879</td>\n",
       "      <td>76</td>\n",
       "      <td>91</td>\n",
       "      <td>86</td>\n",
       "    </tr>\n",
       "  </tbody>\n",
       "</table>\n",
       "</div>"
      ],
      "text/plain": [
       "       School School_Type   SAT  Acceptance  $/Student  Top 10%  %PhD  Grad%\n",
       "0     Amherst    Lib Arts  1315          22      26636       85    81     93\n",
       "1  Swarthmore    Lib Arts  1310          24      27487       78    93     88\n",
       "2    Williams    Lib Arts  1336          28      23772       86    90     93\n",
       "3     Bowdoin    Lib Arts  1300          24      25703       78    95     90\n",
       "4   Wellesley    Lib Arts  1250          49      27879       76    91     86"
      ]
     },
     "execution_count": 10,
     "metadata": {},
     "output_type": "execute_result"
    }
   ],
   "source": [
    "df = pd.read_csv('colleges.csv', header=0, delimiter=\"\\t\")\n",
    "df.head()\n"
   ]
  },
  {
   "cell_type": "code",
   "execution_count": 11,
   "metadata": {},
   "outputs": [
    {
     "data": {
      "image/png": "[encoded data removed]",
      "text/plain": [
       "<Figure size 1440x360 with 3 Axes>"
      ]
     },
     "metadata": {
      "needs_background": "light"
     },
     "output_type": "display_data"
    },
    {
     "data": {
      "image/png": "[encoded data removed]",
      "text/plain": [
       "<Figure size 2880x360 with 1 Axes>"
      ]
     },
     "metadata": {
      "needs_background": "light"
     },
     "output_type": "display_data"
    }
   ],
   "source": [
    "plt.figure(figsize=(20, 5))\n",
    "\n",
    "plt.subplot(1,3,1)\n",
    "sns.boxplot(df['School_Type'], df['SAT'], orient='v')\n",
    "plt.subplot(1,3,2)\n",
    "sns.boxplot(df['School_Type'], df['Acceptance'], orient='v')\n",
    "plt.subplot(1,3,3)\n",
    "sns.boxplot(df['School_Type'], df['$/Student'], orient='v')\n",
    "\n",
    "plt.show()\n",
    "\n",
    "\n",
    "plt.figure(figsize=(40, 5))\n",
    "\n",
    "sns.boxplot(df.loc[df['School_Type'] == 'Univ']['School'], df['$/Student'])\n",
    "\n",
    "plt.show()\n"
   ]
  },
  {
   "cell_type": "markdown",
   "metadata": {},
   "source": [
    "#### 1.5.10"
   ]
  },
  {
   "cell_type": "code",
   "execution_count": 12,
   "metadata": {},
   "outputs": [
    {
     "data": {
      "image/png": "[encoded data removed]",
      "text/plain": [
       "<Figure size 1080x360 with 2 Axes>"
      ]
     },
     "metadata": {
      "needs_background": "light"
     },
     "output_type": "display_data"
    },
    {
     "data": {
      "image/png": "[encoded data removed]",
      "text/plain": [
       "<Figure size 1080x360 with 2 Axes>"
      ]
     },
     "metadata": {
      "needs_background": "light"
     },
     "output_type": "display_data"
    }
   ],
   "source": [
    "plt.figure(figsize=(15, 5))\n",
    "\n",
    "plt.subplot(1,2,1)\n",
    "sns.distplot(df.loc[df['School_Type'] == 'Univ']['Grad%'], hist=True, axlabel = 'Grad% : Univ')\n",
    "plt.subplot(1,2,2)\n",
    "sns.distplot(df.loc[df['School_Type'] == 'Lib Arts']['Grad%'], hist=True, axlabel = 'Grad% : Lib Arts')\n",
    "\n",
    "plt.show()\n",
    "\n",
    "\n",
    "plt.figure(figsize=(15, 5))\n",
    "\n",
    "plt.subplot(1,2,1)\n",
    "sns.distplot(df.loc[df['School_Type'] == 'Univ']['%PhD'], bins = 7, hist=True, axlabel = '%PhD : Univ')\n",
    "plt.subplot(1,2,2)\n",
    "sns.distplot(df.loc[df['School_Type'] == 'Lib Arts']['%PhD'], bins = 7, hist=True, axlabel = '%PhD: Lib Arts')\n",
    "\n",
    "plt.show()\n"
   ]
  },
  {
   "cell_type": "markdown",
   "metadata": {},
   "source": [
    "#### 1.5.11"
   ]
  },
  {
   "cell_type": "code",
   "execution_count": 13,
   "metadata": {},
   "outputs": [
    {
     "name": "stdout",
     "output_type": "stream",
     "text": [
      "1256.64, 45.00, Cal Tech\n"
     ]
    }
   ],
   "source": [
    "M = df.loc[df['School_Type'] == 'Lib Arts']['SAT'].mean()\n",
    "Q3 = df.loc[df['School_Type'] == 'Univ']['Acceptance'].quantile(0.75)\n",
    "df_U = df.loc[df['School_Type'] == 'Univ']\n",
    "Max_money = df_U.sort_values(by=['$/Student'], ascending=False).reset_index(drop=True)['School'][0]\n",
    "\n",
    "print('{:.2f}, {:.2f}, {}'.format(M, Q3, Max_money))\n"
   ]
  },
  {
   "cell_type": "markdown",
   "metadata": {},
   "source": [
    "## 2. Точечные оценки. Свойства и методы построения\n",
    "### 2.1. Точечные оценки и их свойства\n",
    "#### 2.1.3"
   ]
  },
  {
   "cell_type": "code",
   "execution_count": 14,
   "metadata": {},
   "outputs": [
    {
     "name": "stdout",
     "output_type": "stream",
     "text": [
      "[8.91, 13.84, 8.94, 13.28, 13.28, 15.63, 10.83, 14.73, 16.21, 11.6, 14.97, 14.02, 12.0, 11.95, 13.88, 15.67, 11.21, 13.82, 12.29, 15.12]\n"
     ]
    }
   ],
   "source": [
    "with open('dataset_39625_3.txt') as file:\n",
    "    data = list(map(float, file.read().split(', ')))\n",
    "    \n",
    "n = len(data)\n",
    "X_mean = sum(data) / n\n",
    "\n",
    "print(data)\n"
   ]
  },
  {
   "cell_type": "markdown",
   "metadata": {},
   "source": [
    "#### 2.1.6."
   ]
  },
  {
   "cell_type": "code",
   "execution_count": 15,
   "metadata": {},
   "outputs": [
    {
     "name": "stdout",
     "output_type": "stream",
     "text": [
      "3.414\n"
     ]
    }
   ],
   "source": [
    "data = [\n",
    "    17.4, 19.9, 19.9, 19.0, 20.7, 18.2, 18.6, 20.3, 21.7, 20.8, 16.7, 20.3, 22.5, 18.3, 21.1,\n",
    "    16.3, 22.0, 19.5, 18.1, 21.1, 20.0, 21.6, 21.5, 21.1, 23.3, 23.0, 17.8, 19.5, 21.6, 22.9\n",
    "]\n",
    "n = len(data)\n",
    "D = 0\n",
    "\n",
    "X_mean = sum(data) / n\n",
    "\n",
    "for i in range(0,len(data)):\n",
    "    D += (data[i] - X_mean) ** 2 / len(data)\n",
    "\n",
    "print ('%.3f' % D)\n"
   ]
  },
  {
   "cell_type": "markdown",
   "metadata": {},
   "source": [
    "### 2.2. Методы построения точечных оценок"
   ]
  },
  {
   "cell_type": "markdown",
   "metadata": {},
   "source": [
    "#### 2.2.10"
   ]
  },
  {
   "cell_type": "code",
   "execution_count": 16,
   "metadata": {},
   "outputs": [
    {
     "name": "stdout",
     "output_type": "stream",
     "text": [
      "-11.299\n",
      "-11.299\n"
     ]
    }
   ],
   "source": [
    "data = [2, 1, 0, 0, 1]\n",
    "n = len(data)\n",
    "lmbd = 3\n",
    "\n",
    "# Вариант 1\n",
    "\n",
    "L = 1\n",
    "\n",
    "for i in range(0, n):\n",
    "    L = L * (lmbd ** data[i]) / math.factorial(data[i]) * math.exp(-lmbd)\n",
    "    \n",
    "print ('%0.3f' % math.log(L))\n",
    "\n",
    "\n",
    "# Вариант 2\n",
    "\n",
    "l = [0] * n\n",
    "\n",
    "for i in range(0, n):\n",
    "    l[i] = math.log(math.factorial(data[i]))\n",
    "\n",
    "lnL = -lmbd * n + sum(data) * math.log(lmbd) - sum(l)\n",
    "\n",
    "print ('%.3f' % lnL)\n"
   ]
  },
  {
   "cell_type": "markdown",
   "metadata": {},
   "source": [
    "#### 2.2.16"
   ]
  },
  {
   "cell_type": "code",
   "execution_count": 17,
   "metadata": {},
   "outputs": [
    {
     "name": "stdout",
     "output_type": "stream",
     "text": [
      "Оценка праметра θ с помощью метода моментов (g(x)=x): 0.33\n",
      "Оценка праметра θ с помощью метода максимального правдоподобия: 0.33\n",
      "0.33, 0.33\n"
     ]
    }
   ],
   "source": [
    "print('Оценка праметра θ с помощью метода моментов (g(x)=x): {:0.2f}'.format(1 / 3))\n",
    "print('Оценка праметра θ с помощью метода максимального правдоподобия: {:0.2f}'.format(1 / 3))\n",
    "print('{:0.2f}, {:0.2f}'.format(1 / 3, 1 / 3))\n"
   ]
  },
  {
   "cell_type": "markdown",
   "metadata": {},
   "source": [
    "### 2.3. Задание на тему построения точечных оценок\n",
    "#### 2.3.4"
   ]
  },
  {
   "cell_type": "code",
   "execution_count": 18,
   "metadata": {},
   "outputs": [
    {
     "name": "stdout",
     "output_type": "stream",
     "text": [
      "Функция правдоподобия: L(p, q) = p^78 * (1-p)^97 * g^22 * (1-g)^75 \n",
      "\n",
      "0.446, 0.227\n"
     ]
    }
   ],
   "source": [
    "with open('sample_2_4.txt') as file:\n",
    "    data = file.read().splitlines()\n",
    "\n",
    "powers = {\n",
    "    'p': 0,\n",
    "    '1-p': 0,\n",
    "    'g': 0,\n",
    "    '1-g': 0\n",
    "}\n",
    "\n",
    "for search in data:\n",
    "    if search[2] == 'N':\n",
    "        powers['g'] += 1\n",
    "        powers['1-p'] += int(search[0])\n",
    "        powers['1-g'] += int(search[0]) - 1\n",
    "    else:\n",
    "        powers['p'] += 1\n",
    "        powers['1-p'] += int(search[0]) - 1\n",
    "        powers['1-g'] += int(search[0]) - 1\n",
    "        \n",
    "print('Функция правдоподобия: L(p, q) = p^{} * (1-p)^{} * g^{} * (1-g)^{}'.format(powers['p'], powers['1-p'], powers['g'], powers['1-g']), '\\n')\n",
    "print('{:.3f}, {:.3f}'.format(78 / 175, 22 / 97))\n"
   ]
  },
  {
   "cell_type": "markdown",
   "metadata": {},
   "source": [
    "#### 2.3.7"
   ]
  },
  {
   "cell_type": "code",
   "execution_count": 19,
   "metadata": {},
   "outputs": [
    {
     "name": "stdout",
     "output_type": "stream",
     "text": [
      "Оценка праметра θ с помощью метода моментов (g(x)=x): 2.00\n",
      "Оценка праметра θ с помощью метода максимального правдоподобия: 2.18 \n",
      "\n",
      "2.00, 2.18\n"
     ]
    }
   ],
   "source": [
    "print('Оценка праметра θ с помощью метода моментов (g(x)=x): {:0.2f}'.format(2))\n",
    "print('Оценка праметра θ с помощью метода максимального правдоподобия: {:.2f}'.format(-3/math.log(0.4 * 0.7 * 0.9)), '\\n')\n",
    "print('{:.2f}, {:.2f}'.format(2, -3 / math.log(0.4 * 0.7 * 0.9)))\n"
   ]
  },
  {
   "cell_type": "markdown",
   "metadata": {},
   "source": [
    "## 3. Доверительные интервалы. Стратифицированные выборки\n",
    "### 3.1. Стратифицированные выборки\n",
    "#### 3.1.5"
   ]
  },
  {
   "cell_type": "code",
   "execution_count": 20,
   "metadata": {},
   "outputs": [
    {
     "name": "stdout",
     "output_type": "stream",
     "text": [
      "2.6, 3.5\n"
     ]
    }
   ],
   "source": [
    "W = [0.3, 0.6, 0.1]\n",
    "E = [3, 2, 5]\n",
    "D = [1, 4, 0.01]\n",
    "mu = 0\n",
    "var = 0\n",
    "\n",
    "for k in range(0,3):\n",
    "    mu += W[k] * E[k]\n",
    "    \n",
    "for k in range(0,3):\n",
    "    var += W[k] * (D[k] + (E[k] - mu) ** 2)\n",
    "    \n",
    "print('{:.1f}, {:.1f}'.format(mu, var))"
   ]
  },
  {
   "cell_type": "markdown",
   "metadata": {},
   "source": [
    "#### 3.1.7"
   ]
  },
  {
   "cell_type": "code",
   "execution_count": 21,
   "metadata": {},
   "outputs": [
    {
     "name": "stdout",
     "output_type": "stream",
     "text": [
      "678.8, 136721.7\n"
     ]
    }
   ],
   "source": [
    "W = [0.4, 0.6]\n",
    "data = [\n",
    "    [282, 226, 188, 327, 344, 304, 414, 224, 335, 270],\n",
    "    [417,  851,  742, 1217, 1160,  993,  864,  852, 1286,  988]\n",
    "]\n",
    "\n",
    "X_s = W[0] * np.mean(data[0]) + W[1] * np.mean(data[1])\n",
    "D_s = W[0] * (np.var(data[0]) + (X_s - np.mean(data[0])) ** 2) + W[1] * (np.var(data[1]) + (X_s - np.mean(data[1])) ** 2)\n",
    "\n",
    "print('{:.1f}, {:.1f}'.format(X_s, D_s))\n"
   ]
  },
  {
   "cell_type": "markdown",
   "metadata": {},
   "source": [
    "### 3.2. Доверительные интервалы\n",
    "#### 3.2.10"
   ]
  },
  {
   "cell_type": "code",
   "execution_count": 22,
   "metadata": {},
   "outputs": [
    {
     "name": "stdout",
     "output_type": "stream",
     "text": [
      "0.411, 1.466\n"
     ]
    }
   ],
   "source": [
    "data = [\n",
    "    -0.48, -0.2, -1.34, 0.11, 0.06, 0.44, 0.89, 1.47, 0.63, 0.11,\n",
    "    0.34, 0.56, -0.51, 0.02, 1.63, -0.49, 0.06, 1.19, -0.94, -1.59\n",
    "]\n",
    "alpha = 0.05\n",
    "n = len(data)\n",
    "S2 = 0\n",
    "\n",
    "for i in data:\n",
    "    S2 += i ** 2\n",
    "\n",
    "a = S2 / chi2.ppf(1 - alpha / 2, df = n)\n",
    "b = S2 / chi2.ppf(alpha / 2, df = n)\n",
    "\n",
    "print('{:.3f}, {:.3f}'.format(a, b))\n"
   ]
  },
  {
   "cell_type": "markdown",
   "metadata": {},
   "source": [
    "#### 3.2.16"
   ]
  },
  {
   "cell_type": "code",
   "execution_count": 23,
   "metadata": {},
   "outputs": [
    {
     "name": "stdout",
     "output_type": "stream",
     "text": [
      "0.0293, 0.0667, L\n"
     ]
    }
   ],
   "source": [
    "def percent5(a, b):\n",
    "    if (b - a) / 2 > 0.05:\n",
    "        return 'G'\n",
    "    else:\n",
    "        return 'L'\n",
    "\n",
    "with open('dataset_16004_16.txt') as file:\n",
    "    data = file.read().split(', ')\n",
    "\n",
    "alpha = 0.05\n",
    "n = len(data)\n",
    "m = 0\n",
    "\n",
    "for i in data:\n",
    "    if i == '1':\n",
    "        m += 1\n",
    "\n",
    "a = m / n - norm.ppf(0.975) * math.sqrt(m  * (1 - m / n)) / n\n",
    "b = m / n + norm.ppf(0.975) * math.sqrt(m  * (1 - m / n)) / n\n",
    "\n",
    "print('{:.4f}, {:.4f}, {}'.format(a, b, percent5(a, b)))\n"
   ]
  },
  {
   "cell_type": "markdown",
   "metadata": {},
   "source": [
    "### 3.3. Задание на тему стратификации и построение интервальной оценки\n",
    "#### 3.3.8"
   ]
  },
  {
   "cell_type": "code",
   "execution_count": 24,
   "metadata": {},
   "outputs": [
    {
     "name": "stdout",
     "output_type": "stream",
     "text": [
      "0.390, 0.410\n"
     ]
    }
   ],
   "source": [
    "n = 10000\n",
    "m = 4000\n",
    "\n",
    "a = m / n - norm.ppf(1 - alpha / 2) * math.sqrt(m  * (1 - m / n)) / n\n",
    "b = m / n + norm.ppf(1 - alpha / 2) * math.sqrt(m  * (1 - m / n)) / n\n",
    "\n",
    "print('{:.3f}, {:.3f}'.format(a, b))\n"
   ]
  },
  {
   "cell_type": "markdown",
   "metadata": {},
   "source": [
    "## 4. Статистические гипотезы. Параметрические критерии\n",
    "### 4.1. Лемма Неймана-Пирсона\n",
    "#### 4.2.7"
   ]
  },
  {
   "cell_type": "code",
   "execution_count": 25,
   "metadata": {},
   "outputs": [
    {
     "name": "stdout",
     "output_type": "stream",
     "text": [
      "Критическая область для статистики критерия Z: (-inf, -1.29)\n",
      "p-value = 0.024\n",
      "Отклоняем H_0\n"
     ]
    }
   ],
   "source": [
    "alpha = 0.1 \n",
    "n = 100\n",
    "s2 = 1              # несмещенная оценка дисперсии\n",
    "X_mean = 3.3        # средний стаж\n",
    "a_0 = 3.5\n",
    "\n",
    "Z_sample = (X_mean - a_0) / math.sqrt(s2 / n)        #выборочная статистика\n",
    "t_alpha = t.ppf(alpha, n - 1)\n",
    "p_value = t.cdf(Z_sample, n - 1)\n",
    "\n",
    "print('Критическая область для статистики критерия Z: ({}, {:.2f})'.format(-math.inf, t_alpha))\n",
    "print('p-value = {:.3f}'.format(p_value))\n",
    "\n",
    "if p_value > alpha:\n",
    "    print('Принимаем H_0')\n",
    "else:\n",
    "    print('Отклоняем H_0')\n"
   ]
  },
  {
   "cell_type": "markdown",
   "metadata": {},
   "source": [
    "#### 4.2.10"
   ]
  },
  {
   "cell_type": "code",
   "execution_count": 26,
   "metadata": {},
   "outputs": [
    {
     "name": "stdout",
     "output_type": "stream",
     "text": [
      "2.57, H1\n"
     ]
    }
   ],
   "source": [
    "a_0 = 13.2\n",
    "n = 40\n",
    "X_mean = 14.4\n",
    "sigma = 2.915\n",
    "alpha = 0.01\n",
    "\n",
    "s = sigma * math.sqrt(n / (n - 1))\n",
    "Z_sample = (X_mean - a_0) / (s / math.sqrt(n))\n",
    "u_alpha = t.ppf(1 - alpha, n - 1)\n",
    "\n",
    "if Z_sample <= u_alpha:\n",
    "    H = 'H0'\n",
    "else:\n",
    "    H = 'H1'\n",
    "\n",
    "print('{:.2f}, {}'.format(Z_sample, H))\n"
   ]
  },
  {
   "cell_type": "markdown",
   "metadata": {},
   "source": [
    "#### 4.2.15"
   ]
  },
  {
   "cell_type": "code",
   "execution_count": 27,
   "metadata": {},
   "outputs": [
    {
     "name": "stdout",
     "output_type": "stream",
     "text": [
      "0.043, H1\n"
     ]
    }
   ],
   "source": [
    "data = [986, 1005, 991, 994, 983, 1002, 996, 998,1002, 983]\n",
    "alpha = 0.05\n",
    "n = 10\n",
    "X_mean = 994        # средний стаж\n",
    "a_0 = 1000\n",
    "\n",
    "s2 = np.var(data) * n / (n - 1)                          # несмещенная оценка дисперсии\n",
    "Z_sample = (X_mean - a_0) / math.sqrt(s2 / n)       # выборочная статистика\n",
    "p_value = 2 * t.cdf(Z_sample, n - 1)\n",
    "\n",
    "if p_value > alpha:\n",
    "    H = 'H0'\n",
    "else:\n",
    "    H = 'H1'\n",
    "\n",
    "print('{:.3f}, {}'.format(p_value, H))\n"
   ]
  },
  {
   "cell_type": "markdown",
   "metadata": {},
   "source": [
    "### 4.3. Критерии о параметрах нормального и биномиального распределений\n",
    "#### 4.3.3"
   ]
  },
  {
   "cell_type": "code",
   "execution_count": 28,
   "metadata": {},
   "outputs": [
    {
     "name": "stdout",
     "output_type": "stream",
     "text": [
      "11.651\n"
     ]
    }
   ],
   "source": [
    "alpha = 0.1\n",
    "n = 20\n",
    "\n",
    "chi2_alpha = chi2.ppf(alpha, n - 1)\n",
    "\n",
    "print('{:.3f}'.format(chi2_alpha))\n"
   ]
  },
  {
   "cell_type": "markdown",
   "metadata": {},
   "source": [
    "#### 4.3.6"
   ]
  },
  {
   "cell_type": "code",
   "execution_count": 29,
   "metadata": {},
   "outputs": [
    {
     "name": "stdout",
     "output_type": "stream",
     "text": [
      "0.055, H0\n"
     ]
    }
   ],
   "source": [
    "alpha = 0.05\n",
    "n = 25\n",
    "s2 = 13.5           # несмещенная оценка дисперсии\n",
    "X_mean = 100        # средний вес\n",
    "sigma_0_2 = 9\n",
    "\n",
    "Z_sample = (n-1) * s2 / sigma_0_2        # выборочная статистика\n",
    "p_value = 1 - chi2.cdf(Z_sample, n - 1)\n",
    "\n",
    "if p_value > alpha:\n",
    "    H = 'H0'\n",
    "else:\n",
    "    H = 'H1'\n",
    "\n",
    "print('{:0.3f}, {}'.format(p_value, H))\n"
   ]
  },
  {
   "cell_type": "markdown",
   "metadata": {},
   "source": [
    "#### 4.3.14."
   ]
  },
  {
   "cell_type": "code",
   "execution_count": 30,
   "metadata": {},
   "outputs": [
    {
     "name": "stdout",
     "output_type": "stream",
     "text": [
      "129.948, 225, H1\n"
     ]
    }
   ],
   "source": [
    "alpha_0 = 0.01\n",
    "p_0 = 0.5\n",
    "n = 225\n",
    "m = 135\n",
    "\n",
    "Z_sample = m        # выборочная статистика\n",
    "c_1 = n * p_0 + math.sqrt(n * p_0 * (1 - p_0)) * norm.ppf(1 - alpha_0)\n",
    "\n",
    "if Z_sample > c_1:\n",
    "    H = 'H1'\n",
    "else:\n",
    "    H = 'H0'\n",
    "\n",
    "print('{:.3f}, {}, {}'.format(c_1, n, H))\n"
   ]
  },
  {
   "cell_type": "markdown",
   "metadata": {},
   "source": [
    "### 4.4 Задача на проверку статистической гипотезы\n",
    "#### 4.4.3"
   ]
  },
  {
   "cell_type": "code",
   "execution_count": 31,
   "metadata": {},
   "outputs": [
    {
     "name": "stdout",
     "output_type": "stream",
     "text": [
      "0.000, 162.444, H1\n"
     ]
    }
   ],
   "source": [
    "alpha_0 = 0.02\n",
    "m = 60\n",
    "p_0 = 0.25\n",
    "n = 747\n",
    "m = 60\n",
    "\n",
    "Z_sample = m        # выборочная статистика\n",
    "c_1 = n * p_0 + math.sqrt(n * p_0 * (1 - p_0)) * norm.ppf(alpha_0)\n",
    "\n",
    "if Z_sample < c_1:\n",
    "    H = 'H1'\n",
    "else:\n",
    "    H = 'H0'\n",
    "\n",
    "print('{:.3f}, {:.3f}, {}'.format(0, c_1, H))\n"
   ]
  },
  {
   "cell_type": "markdown",
   "metadata": {},
   "source": [
    "#### 4.4.4"
   ]
  },
  {
   "cell_type": "code",
   "execution_count": 32,
   "metadata": {},
   "outputs": [
    {
     "name": "stdout",
     "output_type": "stream",
     "text": [
      "9.855\n"
     ]
    }
   ],
   "source": [
    "data = [\n",
    "    1380, 1344, 1356, 1291, 1308, 1271, 1371, 1430, 1381, 1457, 1492, 1240, 1256, 1466,\n",
    "    1214, 1448, 1510, 1395, 1507, 1264, 1293, 1251, 1380, 1386, 1411, 1434, 1302, 1529,\n",
    "    1352, 1494, 1348, 1464, 1286, 1345, 1491, 1259, 1541, 1214, 1310, 1286\n",
    "]\n",
    "alpha = 0.03\n",
    "a_0 = 1222\n",
    "n = len(data)\n",
    "\n",
    "X_mean = np.mean(data)                             # выборочное среднее\n",
    "s2 = np.var(data) * n / (n-1)                      # несмещенная оценка дисперсии\n",
    "Z_sample = (X_mean - a_0) / math.sqrt(s2/n)        # выборочная статистика\n",
    "\n",
    "print('{:.3f}'.format(Z_sample))\n"
   ]
  },
  {
   "cell_type": "markdown",
   "metadata": {},
   "source": [
    "#### 4.4.6"
   ]
  },
  {
   "cell_type": "code",
   "execution_count": 33,
   "metadata": {},
   "outputs": [
    {
     "name": "stdout",
     "output_type": "stream",
     "text": [
      "0.00, H1\n"
     ]
    }
   ],
   "source": [
    "data = [\n",
    "    1380, 1344, 1356, 1291, 1308, 1271, 1371, 1430, 1381, 1457, 1492, 1240, 1256, 1466,\n",
    "    1214, 1448, 1510, 1395, 1507, 1264, 1293, 1251, 1380, 1386, 1411, 1434, 1302, 1529,\n",
    "    1352, 1494, 1348, 1464, 1286, 1345, 1491, 1259, 1541, 1214, 1310, 1286\n",
    "]\n",
    "alpha = 0.03\n",
    "a_0 = 1222\n",
    "n = len(data)\n",
    "\n",
    "X_mean = np.mean(data)                             # выборочное среднее\n",
    "s2 = np.var(data) * n / (n-1)                      # несмещенная оценка дисперсии\n",
    "Z_sample = (X_mean - a_0) / math.sqrt(s2/n)        # выборочная статистика\n",
    "\n",
    "p_value = 1 - t.cdf(Z_sample, n - 1)\n",
    "\n",
    "if p_value > alpha:\n",
    "    H = 'H0'\n",
    "else:\n",
    "    H = 'H1'\n",
    "\n",
    "print('{:.2f}, {}'.format(p_value, H))\n"
   ]
  },
  {
   "cell_type": "markdown",
   "metadata": {},
   "source": [
    "## 5. Критерии однородности\n",
    "### 5.1. Параметрические критерии однородности\n",
    "#### 5.1.5"
   ]
  },
  {
   "cell_type": "code",
   "execution_count": 34,
   "metadata": {},
   "outputs": [
    {
     "name": "stdout",
     "output_type": "stream",
     "text": [
      "1.170\n"
     ]
    }
   ],
   "source": [
    "m = 9\n",
    "n = 11\n",
    "sigma2_1 = 5.9\n",
    "sigma2_2 = 23.3\n",
    "alpha = 0.6\n",
    "\n",
    "s2_1 = sigma2_1 * m / (m - 1)\n",
    "s2_2 = sigma2_2 * n / (n - 1)\n",
    "\n",
    "print('{:.3f}'.format(f.ppf(alpha, m - 1, n - 1)))\n"
   ]
  },
  {
   "cell_type": "markdown",
   "metadata": {},
   "source": [
    "#### 5.1.6"
   ]
  },
  {
   "cell_type": "code",
   "execution_count": 35,
   "metadata": {},
   "outputs": [
    {
     "name": "stdout",
     "output_type": "stream",
     "text": [
      "0.259, H0\n"
     ]
    }
   ],
   "source": [
    "m = 9\n",
    "n = 11\n",
    "sigma2_1 = 5.9\n",
    "sigma2_2 = 23.3\n",
    "alpha = 0.01\n",
    "\n",
    "s2_1 = sigma2_1 * m / (m - 1)\n",
    "s2_2 = sigma2_2 * n / (n - 1)\n",
    "\n",
    "Z_sample = s2_1 / s2_2\n",
    "f_alpha_2 = f.ppf(alpha / 2, m - 1, n - 1)\n",
    "f_1_alpha_2 = f.ppf(1 - alpha / 2, m - 1, n - 1)\n",
    "\n",
    "if (Z_sample < f_alpha_2) | (Z_sample > f_1_alpha_2):\n",
    "    H = 'H1'\n",
    "else:\n",
    "    H = 'H0'\n",
    "\n",
    "print('{:.3f}, {}'.format(Z_sample, H))\n"
   ]
  },
  {
   "cell_type": "markdown",
   "metadata": {},
   "source": [
    "#### 5.1.9"
   ]
  },
  {
   "cell_type": "code",
   "execution_count": 36,
   "metadata": {},
   "outputs": [
    {
     "name": "stdout",
     "output_type": "stream",
     "text": [
      "-0.538\n"
     ]
    }
   ],
   "source": [
    "m = 16\n",
    "n = 9\n",
    "D1 = 0.91\n",
    "D2 = 1.51\n",
    "alpha = 0.3\n",
    "\n",
    "s2_1 = D1 * m / (m - 1)        # несмещенная оценка дисперсии x_1\n",
    "s2_2 = D2 * n / (n - 1)        # несмещенная оценка дисперсии x_2\n",
    "K = (s2_1 / m + s2_2 / n) ** 2 / ((s2_1 / m ) ** 2 / (m - 1) + (s2_2 / n ) ** 2 / (n - 1)) // 1\n",
    "\n",
    "print('{:.3f}'.format(t.ppf(alpha, K)))\n"
   ]
  },
  {
   "cell_type": "markdown",
   "metadata": {},
   "source": [
    "#### 5.1.11"
   ]
  },
  {
   "cell_type": "code",
   "execution_count": 37,
   "metadata": {},
   "outputs": [
    {
     "name": "stdout",
     "output_type": "stream",
     "text": [
      "0.184, H0\n"
     ]
    }
   ],
   "source": [
    "m = 16\n",
    "n = 9\n",
    "D1 = 0.91\n",
    "D2 = 1.51\n",
    "X1_mean = 12.57\n",
    "X2_mean = 11.87\n",
    "alpha = 0.02\n",
    "\n",
    "s2_1 = D1 * m / (m - 1)        # несмещенная оценка дисперсии x_1\n",
    "s2_2 = D2 * n / (n - 1)        # несмещенная оценка дисперсии x_2\n",
    "K = (s2_1 / m + s2_2 / n) ** 2 / ((s2_1 / m ) ** 2 / (m - 1) + (s2_2 / n ) ** 2 / (n - 1)) // 1\n",
    "Z_sample = (X1_mean - X2_mean) / math.sqrt(s2_1 / m + s2_2 / n)\n",
    "p_value = 2 * min(t.cdf(Z_sample, K), 1 - t.cdf(Z_sample, K))\n",
    "\n",
    "if p_value > alpha:\n",
    "    H = 'H0'\n",
    "else:\n",
    "    H = 'H1'\n",
    "\n",
    "print('{:.3f}, {}'.format(p_value, H))\n"
   ]
  },
  {
   "cell_type": "markdown",
   "metadata": {},
   "source": [
    "#### 5.1.13"
   ]
  },
  {
   "cell_type": "code",
   "execution_count": 38,
   "metadata": {},
   "outputs": [
    {
     "name": "stdout",
     "output_type": "stream",
     "text": [
      "1.314\n"
     ]
    }
   ],
   "source": [
    "n = 28\n",
    "alpha = 0.9\n",
    "\n",
    "print('%.3f' % t.ppf(alpha, n - 1))"
   ]
  },
  {
   "cell_type": "markdown",
   "metadata": {},
   "source": [
    "#### 5.1.14"
   ]
  },
  {
   "cell_type": "code",
   "execution_count": 39,
   "metadata": {},
   "outputs": [
    {
     "name": "stdout",
     "output_type": "stream",
     "text": [
      "0.003, H1\n"
     ]
    }
   ],
   "source": [
    "import pandas as pd\n",
    "from scipy.stats import t\n",
    "import math\n",
    "\n",
    "data = pd.read_csv('cholesterol.txt', header=0, sep='\\t')\n",
    "n = data.shape[0]\n",
    "alpha = 0.05\n",
    "\n",
    "data['Q'] = data['Day2'] - data['Day4']\n",
    "Z_sample = data['Q'].mean() / data['Q'].std() * math.sqrt(n)\n",
    "p_value = 2 * min(t.cdf(Z_sample, n - 1), 1 - t.cdf(Z_sample, n - 1))\n",
    "\n",
    "if p_value > alpha:\n",
    "    H = 'H0'\n",
    "else:\n",
    "    H = 'H1'\n",
    "\n",
    "print('{:.3f}, {}'.format(p_value, H))"
   ]
  },
  {
   "cell_type": "markdown",
   "metadata": {},
   "source": [
    "### 5.2. Непараметрические критерии однородности\n",
    "#### 5.2.4"
   ]
  },
  {
   "cell_type": "markdown",
   "metadata": {},
   "source": [
    "#### 5.2.5 ???"
   ]
  },
  {
   "cell_type": "code",
   "execution_count": 40,
   "metadata": {},
   "outputs": [
    {
     "name": "stdout",
     "output_type": "stream",
     "text": [
      "71\n"
     ]
    }
   ],
   "source": [
    "X = [156, 171, 133, 102, 129, 150, 120, 110, 112, 130]\n",
    "Y = [73, 81, 103, 88, 131, 106, 107, 111, 122, 108]\n",
    "n = len(X)\n",
    "m = len(Y)\n",
    "W = 0\n",
    "Z = []\n",
    "\n",
    "Z.extend(X)\n",
    "Z.extend(Y)\n",
    "Z.sort()\n",
    "\n",
    "for i in range(0, m + n):\n",
    "    if Z[i] in Y:\n",
    "        W += i+1\n",
    "        \n",
    "print(W)"
   ]
  },
  {
   "cell_type": "code",
   "execution_count": 41,
   "metadata": {},
   "outputs": [],
   "source": [
    "X = [156, 171, 133, 102, 129, 150, 120, 110, 112, 130]\n",
    "Y = [73, 81, 103, 88, 131, 106, 107, 111, 122, 108]\n",
    "n = len(X)\n",
    "m = len(Y)\n",
    "alpha = 0.05\n",
    "W = 0\n",
    "Z = []\n",
    "\n",
    "Z.extend(X)\n",
    "Z.extend(Y)\n",
    "Z.sort()\n",
    "\n",
    "l_bound = m * (m + 1) / 2\n",
    "r_bound = m * (m + 1) / 2 + m * n \n",
    "\n",
    "for i in range(0, len(Z)):\n",
    "    if Z[i] in Y:\n",
    "        W += i+1\n",
    "\n",
    "#wilcoxon(X, Y)\n",
    "#ranksums(X, Y)\n"
   ]
  },
  {
   "cell_type": "markdown",
   "metadata": {},
   "source": [
    "#### 5.2.11"
   ]
  },
  {
   "cell_type": "code",
   "execution_count": 42,
   "metadata": {},
   "outputs": [
    {
     "name": "stdout",
     "output_type": "stream",
     "text": [
      "4\n"
     ]
    }
   ],
   "source": [
    "X = [69, 80, 92, 81, 70, 79, 78, 66, 57, 77]\n",
    "Y = [60, 84, 87, 79, 73, 71, 72, 67, 59, 70]\n",
    "n = len(X)\n",
    "L = 0\n",
    "\n",
    "for i in range(0, n):\n",
    "    a = X[i] - Y[i]\n",
    "    if a < 0:\n",
    "        L += 1\n",
    "        \n",
    "print(L)"
   ]
  },
  {
   "cell_type": "markdown",
   "metadata": {},
   "source": [
    "#### 5.2.13 ???\n",
    "Десяти людям была предложена специальная диета для похудания. После двухнедельного питания по этой диете масса тела участников эксперимента изменилась следующим образом:\n",
    "\n",
    "    До После\n",
    "\n",
    "    69 60\n",
    "    80 84\n",
    "    92 87\n",
    "    81 79\n",
    "    70 73\n",
    "    79 71\n",
    "    78 72\n",
    "    66 67\n",
    "    57 59\n",
    "    77 70\n",
    "\n",
    "Оказывает ли эта диета какое-либо существенное действие на массу тела? Найдите значение статистики критерия Вилкоксона. Уровень значимости 0.05.\n",
    "\n",
    "Формат ответа: значение статистики критерия с точностью 1 знак после запятой.\n",
    "\n",
    "Подсказка:\n",
    "\n",
    "Если несколько элементов имеют одно и то же значение, то ранг каждого из этих элементов равен среднему арифметическому рангов, как если бы все эти элементы имели разные значения."
   ]
  },
  {
   "cell_type": "code",
   "execution_count": 43,
   "metadata": {},
   "outputs": [
    {
     "name": "stdout",
     "output_type": "stream",
     "text": [
      "   Z  Z_abs\n",
      "0 -1      1\n",
      "1  2      2\n",
      "2 -2      2\n",
      "3 -3      3\n",
      "4 -4      4\n",
      "5  5      5\n",
      "6  6      6\n",
      "7  7      7\n",
      "8  8      8\n",
      "9  9      9\n"
     ]
    }
   ],
   "source": [
    "data = pd.DataFrame({'X': [69, 80, 92, 81, 70, 79, 78, 66, 57, 77], 'Y': [60, 84, 87, 79, 73, 71, 72, 67, 59, 70]})\n",
    "n = data.shape[0]\n",
    "\n",
    "data['Z'] = data['X'] - data['Y']\n",
    "del data['X'], data['Y'] \n",
    "data['Z_abs'] = abs(data['Z'])\n",
    "data = data.sort_values(by=['Z_abs']).reset_index(drop=True)\n",
    "\n",
    "print(data)\n"
   ]
  },
  {
   "cell_type": "markdown",
   "metadata": {},
   "source": [
    "### 5.3 Однофакторный дисперсионный анализ\n",
    "#### 5.3.5"
   ]
  },
  {
   "cell_type": "code",
   "execution_count": 44,
   "metadata": {},
   "outputs": [
    {
     "name": "stdout",
     "output_type": "stream",
     "text": [
      "0.412\n"
     ]
    }
   ],
   "source": [
    "def n(j):\n",
    "    \n",
    "    return len(X[j])\n",
    "\n",
    "X = {\n",
    "    1: (5.9, 6.0, 7.0, 6.5, 5.5, 7.0, 8.1, 7.5, 6.2, 6.4, 7.1, 6.9),\n",
    "    2: (4.0, 5.1, 6.2, 5.3, 4.5, 4.4, 5.3, 5.4, 5.6, 5.2),\n",
    "    3: (8.2, 6.8, 8.0, 7.5, 7.2, 7.9, 8.1, 8.5, 7.8, 8.1)\n",
    "}\n",
    "k = len(X)\n",
    "N, Q1 = 0, 0\n",
    "\n",
    "for key in X.keys():\n",
    "    N += n(key)\n",
    "\n",
    "for j in range(1, k + 1):\n",
    "    for i in range(0, n(j)):\n",
    "        Q1 += (X[j][i] - np.mean(X[j])) ** 2\n",
    "\n",
    "sigma2_pe = Q1 / (N - k)\n",
    "\n",
    "print('{:.3f}'.format(sigma2_pe))"
   ]
  },
  {
   "cell_type": "markdown",
   "metadata": {},
   "source": [
    "#### 5.3.7"
   ]
  },
  {
   "cell_type": "code",
   "execution_count": 45,
   "metadata": {},
   "outputs": [
    {
     "name": "stdout",
     "output_type": "stream",
     "text": [
      "2.495\n"
     ]
    }
   ],
   "source": [
    "def n(j):\n",
    "    \n",
    "    return len(X[j])\n",
    "\n",
    "\n",
    "X = {\n",
    "    1: (5.9, 6.0, 7.0, 6.5, 5.5, 7.0, 8.1, 7.5, 6.2, 6.4, 7.1, 6.9),\n",
    "    2: (4.0, 5.1, 6.2, 5.3, 4.5, 4.4, 5.3, 5.4, 5.6, 5.2),\n",
    "    3: (8.2, 6.8, 8.0, 7.5, 7.2, 7.9, 8.1, 8.5, 7.8, 8.1)\n",
    "}\n",
    "alpha = 0.1\n",
    "k = len(X)\n",
    "N = 0\n",
    "\n",
    "for key in X.keys():\n",
    "    N += n(key)\n",
    "\n",
    "print('{:.3f}'.format(f.ppf(1 - alpha, k - 1, N - k)))"
   ]
  },
  {
   "cell_type": "markdown",
   "metadata": {},
   "source": [
    "#### 5.3.9"
   ]
  },
  {
   "cell_type": "code",
   "execution_count": 46,
   "metadata": {},
   "outputs": [
    {
     "name": "stdout",
     "output_type": "stream",
     "text": [
      "44.991, H1\n"
     ]
    }
   ],
   "source": [
    "def n(j):\n",
    "    \n",
    "    return len(X[j])\n",
    "\n",
    "\n",
    "X = {\n",
    "    1: (5.9, 6.0, 7.0, 6.5, 5.5, 7.0, 8.1, 7.5, 6.2, 6.4, 7.1, 6.9),\n",
    "    2: (4.0, 5.1, 6.2, 5.3, 4.5, 4.4, 5.3, 5.4, 5.6, 5.2),\n",
    "    3: (8.2, 6.8, 8.0, 7.5, 7.2, 7.9, 8.1, 8.5, 7.8, 8.1)\n",
    "}\n",
    "alpha = 0.1\n",
    "k = len(X)\n",
    "N, Q1, Q2, Sum = 0, 0, 0, 0\n",
    "\n",
    "for j in X.keys():\n",
    "    N += n(j)\n",
    "    Sum += sum(X[j])\n",
    "\n",
    "X_mean = Sum / N\n",
    "\n",
    "for j in X.keys():\n",
    "    Xj_mean = np.mean(X[j])\n",
    "    Q2 += n(j) * (Xj_mean - X_mean) ** 2\n",
    "    \n",
    "    for i in range(0, n(j)):\n",
    "        Q1 += (X[j][i] - Xj_mean) ** 2\n",
    "\n",
    "sigma2_pe = Q1 / (N - k)\n",
    "sigma2_H0_pe = Q2 / (k - 1)\n",
    "F_sample = sigma2_H0_pe / sigma2_pe\n",
    "Vk_b = f.ppf(1 - alpha, k - 1, N - k)\n",
    "\n",
    "if F_sample > Vk_b:\n",
    "    H = 'H1'\n",
    "else:\n",
    "    H = 'H0'\n",
    "\n",
    "print('{:.3f}, {}'.format(F_sample, H))\n"
   ]
  },
  {
   "cell_type": "markdown",
   "metadata": {},
   "source": [
    "#### 5.3.11"
   ]
  },
  {
   "cell_type": "code",
   "execution_count": 47,
   "metadata": {},
   "outputs": [
    {
     "name": "stdout",
     "output_type": "stream",
     "text": [
      "1.575\n"
     ]
    }
   ],
   "source": [
    "def Lk_pe(k1, k2):\n",
    "    \n",
    "    return np.mean(X[k1]) - np.mean(X[k2])\n",
    "\n",
    "X = {\n",
    "    1: (5.9, 6.0, 7.0, 6.5, 5.5, 7.0, 8.1, 7.5, 6.2, 6.4, 7.1, 6.9),\n",
    "    2: (4.0, 5.1, 6.2, 5.3, 4.5, 4.4, 5.3, 5.4, 5.6, 5.2),\n",
    "    3: (8.2, 6.8, 8.0, 7.5, 7.2, 7.9, 8.1, 8.5, 7.8, 8.1)\n",
    "}\n",
    "k1 = 1\n",
    "k2 = 2\n",
    "\n",
    "print('{:.3f}'.format(Lk_pe(k1, k2)))"
   ]
  },
  {
   "cell_type": "markdown",
   "metadata": {},
   "source": [
    "#### 5.3.12"
   ]
  },
  {
   "cell_type": "code",
   "execution_count": 48,
   "metadata": {},
   "outputs": [
    {
     "name": "stdout",
     "output_type": "stream",
     "text": [
      "0.961, 2.189, H1\n"
     ]
    }
   ],
   "source": [
    "def Lk_pe(k1, k2):        # точечная оценка линейного контраста с индексом 'k1k2'\n",
    "    \n",
    "    return np.mean(X[k1]) - np.mean(X[k2])\n",
    "\n",
    "def n(j):\n",
    "    \n",
    "    return len(X[j])\n",
    "\n",
    "\n",
    "X = {\n",
    "    '5%': (5.9, 6.0, 7.0, 6.5, 5.5, 7.0, 8.1, 7.5, 6.2, 6.4, 7.1, 6.9),\n",
    "    '10%': (4.0, 5.1, 6.2, 5.3, 4.5, 4.4, 5.3, 5.4, 5.6, 5.2),\n",
    "    '15%': (8.2, 6.8, 8.0, 7.5, 7.2, 7.9, 8.1, 8.5, 7.8, 8.1)\n",
    "}\n",
    "alpha = 0.1\n",
    "k = len(X) \n",
    "k1, k2 = '5%', '10%'\n",
    "N, Q1, rank = 0, 0, 0\n",
    "\n",
    "for j in X.keys():\n",
    "    Xj_mean = np.mean(X[j])\n",
    "    N += n(j)\n",
    "    \n",
    "    for i in range(0, n(j)):\n",
    "        Q1 += (X[j][i] - Xj_mean) ** 2\n",
    "\n",
    "S2_pe = Q1 / (N - k) * (1 / n(k1) + 1 / n(k2))        # оценка дисперсии Lk_pe\n",
    "f_alpha = f.ppf(1 - alpha, k - 1, N - k)        # квантиль распределения Фишера\n",
    "\n",
    "Lk_rb = Lk_pe(k1, k2) + np.sqrt(S2_pe * (k - 1) * f_alpha)        # правая граница ДИ\n",
    "Lk_lb = Lk_pe(k1, k2) - np.sqrt(S2_pe * (k - 1) * f_alpha)        # левая граница ДИ\n",
    "\n",
    "if (0 > Lk_lb) & (0 < Lk_rb) :\n",
    "    H = 'H0'\n",
    "else:\n",
    "    H = 'H1'\n",
    "\n",
    "print('{:.3f}, {:.3f}, {}'.format(Lk_lb, Lk_rb, H))"
   ]
  },
  {
   "cell_type": "markdown",
   "metadata": {},
   "source": [
    "#### 5.3.14"
   ]
  },
  {
   "cell_type": "code",
   "execution_count": 49,
   "metadata": {},
   "outputs": [
    {
     "name": "stdout",
     "output_type": "stream",
     "text": [
      "7.75\n"
     ]
    }
   ],
   "source": [
    "def n(j):\n",
    "    \n",
    "    return len(data[j])\n",
    "\n",
    "def dict_to_list(data):\n",
    "    N = 0\n",
    "    \n",
    "    for j in data.keys():\n",
    "        N += n(j)\n",
    "    \n",
    "        for i in range(0, n(j)):\n",
    "            X[data[j][i]] = [j, 0]\n",
    "            \n",
    "    return X\n",
    "\n",
    "data = {\n",
    "    'Светлый блондин': [62, 60, 71, 55, 48],\n",
    "    'Темный блондин': [63, 57, 52, 41, 43],\n",
    "    'Светлый брюнет': [42, 50, 44, 37],\n",
    "    'Темный брюнет': [32, 39, 51, 30, 35]\n",
    "}\n",
    "\n",
    "X = {}\n",
    "k = len(data) \n",
    "k1 = 'Светлый брюнет'\n",
    "rank, Rj_sum = 0, 0\n",
    "\n",
    "X = dict_to_list(data)\n",
    "\n",
    "for key in sorted(X.keys()):\n",
    "    rank += 1\n",
    "    X[key][1] = rank\n",
    "\n",
    "for j in data[k1]:\n",
    "    Rj_sum += X[j][1]\n",
    "\n",
    "Rj_mean = Rj_sum / n(k1)\n",
    "\n",
    "print('%.2f' % Rj_mean)\n"
   ]
  },
  {
   "cell_type": "markdown",
   "metadata": {},
   "source": [
    "#### 5.3.15"
   ]
  },
  {
   "cell_type": "code",
   "execution_count": 50,
   "metadata": {},
   "outputs": [
    {
     "name": "stdout",
     "output_type": "stream",
     "text": [
      "10.145, H1\n"
     ]
    }
   ],
   "source": [
    "def n(j):\n",
    "    \n",
    "    return len(data[j])\n",
    "\n",
    "def dict_to_list(data):\n",
    "    N = 0\n",
    "    \n",
    "    for j in data.keys():\n",
    "        N += n(j)\n",
    "    \n",
    "        for i in range(0, n(j)):\n",
    "            X[data[j][i]] = [j, 0]\n",
    "            \n",
    "    return X\n",
    "\n",
    "data = {\n",
    "    'Светлый блондин': [62, 60, 71, 55, 48],\n",
    "    'Темный блондин': [63, 57, 52, 41, 43],\n",
    "    'Светлый брюнет': [42, 50, 44, 37],\n",
    "    'Темный брюнет': [32, 39, 51, 30, 35]\n",
    "}\n",
    "alpha = 0.05\n",
    "k = len(data)\n",
    "\n",
    "rank, Rj_sum, R_Sum, N, Q2 = 0, 0, 0, 0, 0\n",
    "Rj_mean = dict.fromkeys(data.keys(), 0)\n",
    "X = {}\n",
    "\n",
    "X = dict_to_list(data)\n",
    "\n",
    "for key in sorted(X.keys()):\n",
    "    rank += 1\n",
    "    X[key][1] = rank\n",
    "\n",
    "for key in data.keys():\n",
    "    N += n(key)\n",
    "    \n",
    "    for j in data[key]:\n",
    "        Rj_mean[key] += X[j][1] / n(key)\n",
    "          \n",
    "R_mean = (N + 1) / 2\n",
    "\n",
    "for j in data.keys():\n",
    "    Q2 += n(j) * (Rj_mean[j] - R_mean) ** 2\n",
    "\n",
    "H_sample = 12 / (N * (N + 1)) * Q2\n",
    "chi2_alpha = chi2.ppf(1 - alpha, k - 1)\n",
    "\n",
    "if H_sample > chi2_alpha:\n",
    "    Hyp = 'H1'\n",
    "else:\n",
    "    Hyp = 'H0'\n",
    "    \n",
    "print('{:.3f}, {}'.format(H_sample, Hyp))\n"
   ]
  },
  {
   "cell_type": "markdown",
   "metadata": {},
   "source": [
    "### 5.4. Задача на проверку однородности\n",
    "#### 5.4.1"
   ]
  },
  {
   "cell_type": "code",
   "execution_count": 51,
   "metadata": {},
   "outputs": [
    {
     "name": "stdout",
     "output_type": "stream",
     "text": [
      "1.89\n"
     ]
    },
    {
     "data": {
      "text/html": [
       "<div>\n",
       "<style scoped>\n",
       "    .dataframe tbody tr th:only-of-type {\n",
       "        vertical-align: middle;\n",
       "    }\n",
       "\n",
       "    .dataframe tbody tr th {\n",
       "        vertical-align: top;\n",
       "    }\n",
       "\n",
       "    .dataframe thead th {\n",
       "        text-align: right;\n",
       "    }\n",
       "</style>\n",
       "<table border=\"1\" class=\"dataframe\">\n",
       "  <thead>\n",
       "    <tr style=\"text-align: right;\">\n",
       "      <th></th>\n",
       "      <th>Game</th>\n",
       "      <th>Time</th>\n",
       "    </tr>\n",
       "  </thead>\n",
       "  <tbody>\n",
       "    <tr>\n",
       "      <td>0</td>\n",
       "      <td>1</td>\n",
       "      <td>39.2</td>\n",
       "    </tr>\n",
       "    <tr>\n",
       "      <td>1</td>\n",
       "      <td>1</td>\n",
       "      <td>2.7</td>\n",
       "    </tr>\n",
       "    <tr>\n",
       "      <td>2</td>\n",
       "      <td>1</td>\n",
       "      <td>9.2</td>\n",
       "    </tr>\n",
       "    <tr>\n",
       "      <td>3</td>\n",
       "      <td>1</td>\n",
       "      <td>14.6</td>\n",
       "    </tr>\n",
       "    <tr>\n",
       "      <td>4</td>\n",
       "      <td>1</td>\n",
       "      <td>1.9</td>\n",
       "    </tr>\n",
       "  </tbody>\n",
       "</table>\n",
       "</div>"
      ],
      "text/plain": [
       "   Game  Time\n",
       "0     1  39.2\n",
       "1     1   2.7\n",
       "2     1   9.2\n",
       "3     1  14.6\n",
       "4     1   1.9"
      ]
     },
     "execution_count": 51,
     "metadata": {},
     "output_type": "execute_result"
    }
   ],
   "source": [
    "data = pd.read_csv('rugby.txt', delimiter=\"\\t\")\n",
    "\n",
    "alpha = 0.05\n",
    "N = data.shape[0]\n",
    "k = len(pd.unique(data['Game']))\n",
    "\n",
    "print('{:.2f}'.format(f.ppf(1 - alpha, k - 1, N - k)))\n",
    "\n",
    "data.head()"
   ]
  },
  {
   "cell_type": "markdown",
   "metadata": {},
   "source": [
    "#### 5.4.2"
   ]
  },
  {
   "cell_type": "code",
   "execution_count": 52,
   "metadata": {},
   "outputs": [
    {
     "name": "stdout",
     "output_type": "stream",
     "text": [
      "3.887, H1\n"
     ]
    }
   ],
   "source": [
    "def n(j):\n",
    "    \n",
    "    return len(data[data['Game'] == j])\n",
    "\n",
    "data = pd.read_csv('rugby.txt', delimiter=\"\\t\")\n",
    "alpha = 0.05\n",
    "N = data.shape[0]\n",
    "k = len(pd.unique(data['Game']))\n",
    "Q1, Q2, Sum = 0, 0, 0\n",
    "\n",
    "for j in pd.unique(data['Game']):\n",
    "    Sum += sum(data['Time'][data['Game'] == j])\n",
    "\n",
    "X_mean = Sum / N\n",
    "\n",
    "for j in pd.unique(data['Game']):\n",
    "    Xj_mean = np.mean(data['Time'][data['Game'] == j])\n",
    "    Q2 += n(j) * (Xj_mean - X_mean) ** 2\n",
    "    \n",
    "    for i in data['Time'][data['Game'] == j]:\n",
    "        Q1 += (i - Xj_mean) ** 2\n",
    "\n",
    "sigma2_pe = Q1 / (N - k)\n",
    "sigma2_H0_pe = Q2 / (k - 1)\n",
    "F_sample = sigma2_H0_pe / sigma2_pe\n",
    "Vk_b = f.ppf(1 - alpha, k - 1, N - k)\n",
    "\n",
    "if F_sample > Vk_b:\n",
    "    H = 'H1'\n",
    "else:\n",
    "    H = 'H0'\n",
    "\n",
    "print('{:.3f}, {}'.format(F_sample, H))\n"
   ]
  },
  {
   "cell_type": "markdown",
   "metadata": {},
   "source": [
    "#### 5.4.4"
   ]
  },
  {
   "cell_type": "code",
   "execution_count": 53,
   "metadata": {},
   "outputs": [
    {
     "name": "stdout",
     "output_type": "stream",
     "text": [
      "-58.625, -44.157, H0\n"
     ]
    }
   ],
   "source": [
    "data = pd.read_csv('pulse.txt', delimiter=\"\\t\")\n",
    "n = data.shape[0]\n",
    "alpha = 0.02\n",
    "teta = -50\n",
    "\n",
    "data['Teta'] = data['Pulse1'] - data['Pulse2']\n",
    "teta_mean = np.mean(data['Teta'])                     # выборочное среднее\n",
    "s2_sample = np.var(data['Teta']) * n / (n - 1)        # несмещенная оценка дисперсии\n",
    "\n",
    "S_lb = teta_mean - norm.ppf(1-alpha/2) * np.sqrt(s2_sample / n)        # левая граница ДИ\n",
    "S_rb = teta_mean + norm.ppf(1-alpha/2) * np.sqrt(s2_sample / n)        # правая граница ДИ\n",
    "\n",
    "if (teta > S_lb) & (teta < S_rb) :\n",
    "    Hyp= 'H0'\n",
    "else:\n",
    "    Hyp = 'H1'\n",
    "\n",
    "print('{:.3f}, {:.3f}, {}'. format(S_lb, S_rb, Hyp))\n"
   ]
  },
  {
   "cell_type": "markdown",
   "metadata": {},
   "source": [
    "##  6. Критерии согласия. Таблицы сопряженности \n",
    "### 6.1. Критерии согласия хи-квадрат и Колмогорова\n",
    "#### 6.1.4"
   ]
  },
  {
   "cell_type": "code",
   "execution_count": 54,
   "metadata": {},
   "outputs": [
    {
     "name": "stdout",
     "output_type": "stream",
     "text": [
      "0.302\n"
     ]
    }
   ],
   "source": [
    "def p (x1, x2):\n",
    "    \n",
    "    return math.exp(-lmbd * x1) - math.exp(-lmbd * x2)\n",
    "\n",
    "\n",
    "lmbd = 2\n",
    "\n",
    "print('%.3f' % p(0.2, 0.5))\n"
   ]
  },
  {
   "cell_type": "markdown",
   "metadata": {},
   "source": [
    "#### 6.1.7"
   ]
  },
  {
   "cell_type": "code",
   "execution_count": 55,
   "metadata": {},
   "outputs": [
    {
     "name": "stdout",
     "output_type": "stream",
     "text": [
      "9.210\n"
     ]
    }
   ],
   "source": [
    "def p (x1, x2):\n",
    "    \n",
    "    return math.exp(-lmbd * x1) - math.exp(-lmbd * x2)\n",
    "\n",
    "\n",
    "lmbd = 2\n",
    "alpha = 0.01\n",
    "k = 3\n",
    "\n",
    "print('{:.3f}'.format(chi2.ppf(1 - alpha, k - 1)))\n"
   ]
  },
  {
   "cell_type": "markdown",
   "metadata": {},
   "source": [
    "#### 6.1.8"
   ]
  },
  {
   "cell_type": "code",
   "execution_count": 56,
   "metadata": {},
   "outputs": [
    {
     "name": "stdout",
     "output_type": "stream",
     "text": [
      "1.536, H0\n"
     ]
    }
   ],
   "source": [
    "X_n = [\n",
    "    0.29, 0.01, 0.50, 0.21, 0.65, 0.34, 0.75, 0.07, 0.07, 0.25,\n",
    "    1.26,0.11, 0.22, 0.95, 0.63, 0.93, 0.73, 0.37, 0.80, 1.10\n",
    "]\n",
    "\n",
    "N = len(X_n)\n",
    "lmbd = 2\n",
    "alpha = 0.01\n",
    "sep = (0, 0.2, 0.5, np.infty)\n",
    "k = len(sep) - 1\n",
    "ni = [0] * k\n",
    "j = 0\n",
    "\n",
    "for x_i in np.sort(X_n):\n",
    "    if x_i <= sep[j + 1]:\n",
    "        ni[j] += 1\n",
    "    else:\n",
    "        j += 1\n",
    "        ni[j] += 1\n",
    "\n",
    "p = [math.exp(-lmbd * sep[i]) - math.exp(-lmbd * sep[i + 1]) for i in range(k)]\n",
    "np_i = [N * p[i] for i in range(k)]\n",
    "chi2_sample = np.sum([(ni[i] - np_i[i]) ** 2 /  np_i[i] for i in range(k)])\n",
    "\n",
    "if chi2_sample <= chi2.ppf(1 - alpha, k - 1):\n",
    "    Hyp = 'H0'\n",
    "else:\n",
    "    Hyp = 'H1'\n",
    "\n",
    "print('{:.3f}, {}'.format(chi2_sample, Hyp))\n"
   ]
  },
  {
   "cell_type": "markdown",
   "metadata": {},
   "source": [
    "#### 6.1.11"
   ]
  },
  {
   "cell_type": "code",
   "execution_count": 57,
   "metadata": {},
   "outputs": [
    {
     "name": "stdout",
     "output_type": "stream",
     "text": [
      "0.450\n",
      "0.450\n"
     ]
    }
   ],
   "source": [
    "X = [451, 450, 444, 454, 447]\n",
    "X.sort()\n",
    "N = len(X)\n",
    "mu = 450\n",
    "sigma2 = 16\n",
    "\n",
    "\n",
    "# Вариант 1.\n",
    "\n",
    "Dn = 0\n",
    "F_0 = [norm.cdf(X[i], loc=mu, scale=np.sqrt(sigma2)) for i in range(N)]\n",
    "F = [i / N for i in range(N + 1)]\n",
    "\n",
    "for i in range(N):\n",
    "    Dn = max(abs(F_0[i] - F[i]), abs(F_0[i] - F[i + 1]), Dn)\n",
    "\n",
    "Kstat = np.sqrt(N) * Dn\n",
    "\n",
    "print('{:.3f}'.format(Kstat))\n",
    "\n",
    "\n",
    "# Вариант 2.\n",
    "\n",
    "Dn, p_value = kstest(X, 'norm', args = (mu, np.sqrt(sigma2)))\n",
    "Kstat = np.sqrt(N) * Dn\n",
    "\n",
    "print('{:.3f}'.format(Kstat))\n"
   ]
  },
  {
   "cell_type": "markdown",
   "metadata": {},
   "source": [
    "#### 6.1.13"
   ]
  },
  {
   "cell_type": "code",
   "execution_count": 58,
   "metadata": {},
   "outputs": [
    {
     "name": "stdout",
     "output_type": "stream",
     "text": [
      "0.6\n"
     ]
    }
   ],
   "source": [
    "X = [0, 1, 2, 3, 4, 5, 6]\n",
    "n_i = [427, 235, 72, 21, 1, 1, 0]\n",
    "n = len(n_i)\n",
    "N = sum(n_i)\n",
    "lmbd = 0\n",
    "\n",
    "p = [n_i[i] / N for i in range(n)]\n",
    "\n",
    "for i in range(n):\n",
    "    lmbd += X[i] * p[i]\n",
    "\n",
    "print('%.1f' % lmbd)\n"
   ]
  },
  {
   "cell_type": "markdown",
   "metadata": {},
   "source": [
    "#### 6.1.14"
   ]
  },
  {
   "cell_type": "code",
   "execution_count": 59,
   "metadata": {},
   "outputs": [
    {
     "name": "stdout",
     "output_type": "stream",
     "text": [
      "14.956\n"
     ]
    }
   ],
   "source": [
    "alpha = 0.01\n",
    "X = [0, 1, 2, 3, 4, 5, 6]\n",
    "n_i = [427, 235, 72, 21, 1, 1, 0]\n",
    "n = len(n_i)\n",
    "N = sum(n_i)\n",
    "lmbd = 0\n",
    "\n",
    "p = [n_i[i] / N for i in range(n)]\n",
    "\n",
    "for i in range(n):\n",
    "    lmbd += X[i] * p[i]\n",
    "    \n",
    "lmbd = round(lmbd, 1)\n",
    "L = lmbd ** 3 / math.factorial(3) * np.exp(-lmbd)\n",
    "    \n",
    "print('{:.3f}'.format(L * N))\n"
   ]
  },
  {
   "cell_type": "markdown",
   "metadata": {},
   "source": [
    "#### 6.1.15"
   ]
  },
  {
   "cell_type": "code",
   "execution_count": 60,
   "metadata": {},
   "outputs": [
    {
     "name": "stdout",
     "output_type": "stream",
     "text": [
      "2.97\n"
     ]
    }
   ],
   "source": [
    "n_i = [427, 235, 72, 21, 1, 1, 0]\n",
    "X = [0, 1, 2, 3, 4, 5, 6]\n",
    "n = len(n_i)\n",
    "N = sum(n_i)\n",
    "p = [n_i[i] / N for i in range(n)]\n",
    "lmbd = 0\n",
    "\n",
    "for i in range(n):\n",
    "    lmbd += X[i] * p[i]\n",
    "    \n",
    "lmbd = round(lmbd, 1)\n",
    "\n",
    "pl = [ lmbd ** i / math.factorial(i) * np.exp(-lmbd) for i in range(n)]\n",
    "pl[n-1] += 1 - sum(pl)\n",
    "plN = [pl[i] * N for i in range(n)]\n",
    "\n",
    "for i in range(n-1, -1, -1):\n",
    "    if plN[i] < 5:\n",
    "        plN[i-1] += plN[i]\n",
    "        plN.pop(i)\n",
    "        pl[i-1] += pl[i]\n",
    "        pl.pop(i)\n",
    "        n_i[i-1] += n_i[i]\n",
    "        n_i.pop(i)\n",
    "    else:\n",
    "        n = i + 1\n",
    "        break\n",
    "\n",
    "Stat = [(n_i[i] - plN[i]) ** 2 / plN[i] for i in range(n)]\n",
    "chi2_sample = sum(Stat)\n",
    "\n",
    "print('%.2f' % chi2_sample)\n"
   ]
  },
  {
   "cell_type": "markdown",
   "metadata": {},
   "source": [
    "#### 6.2.16"
   ]
  },
  {
   "cell_type": "code",
   "execution_count": 61,
   "metadata": {},
   "outputs": [
    {
     "name": "stdout",
     "output_type": "stream",
     "text": [
      "9.210, H0\n"
     ]
    }
   ],
   "source": [
    "alpha = 0.01\n",
    "n_i = [427, 235, 72, 21, 1, 1, 0]\n",
    "X = [0, 1, 2, 3, 4, 5, 6]\n",
    "n = len(n_i)\n",
    "N = sum(n_i)\n",
    "p = [n_i[i] / N for i in range(n)]\n",
    "lmbd = 0\n",
    "\n",
    "for i in range(n):\n",
    "    lmbd += X[i] * p[i]\n",
    "    \n",
    "lmbd = round(lmbd, 1)\n",
    "\n",
    "pl = [ lmbd ** i / math.factorial(i) * np.exp(-lmbd) for i in range(n)]\n",
    "pl[n-1] += 1 - sum(pl)\n",
    "plN = [pl[i] * N for i in range(n)]\n",
    "\n",
    "for i in range(n-1, -1, -1):\n",
    "    if plN[i] < 5:\n",
    "        plN[i-1] += plN[i]\n",
    "        plN.pop(i)\n",
    "        pl[i-1] += pl[i]\n",
    "        pl.pop(i)\n",
    "        n_i[i-1] += n_i[i]\n",
    "        n_i.pop(i)\n",
    "    else:\n",
    "        n = i + 1\n",
    "        break\n",
    "\n",
    "Stat = [(n_i[i] - plN[i]) ** 2 / plN[i] for i in range(n)]\n",
    "chi2_sample = sum(Stat)\n",
    "chi2_alpha = chi2.ppf(1-alpha, n - 2)\n",
    "\n",
    "if chi2_sample < chi2_alpha:\n",
    "    Hyp = 'H0'\n",
    "else:\n",
    "    Hyp = 'H1'\n",
    "    \n",
    "print('{:.3f}, {}'.format(chi2_alpha, Hyp))\n"
   ]
  },
  {
   "cell_type": "markdown",
   "metadata": {},
   "source": [
    "### 6.2. Критерии нормальности\n",
    "#### 6.2.6"
   ]
  },
  {
   "cell_type": "code",
   "execution_count": 62,
   "metadata": {},
   "outputs": [
    {
     "name": "stdout",
     "output_type": "stream",
     "text": [
      "0.216\n"
     ]
    }
   ],
   "source": [
    "data = [\n",
    "    3.4, 7.0, 3.9, 6.1, 0.9, 4.6, 6.4, 3.2, 1.8, 4.8, 3.8, 5.6, 1.3, 3.3, 3.7, 2.9, 5.2, 3.7, 5.0, 3.9\n",
    "]\n",
    "\n",
    "jb_value, p_value = jarque_bera(data)\n",
    "\n",
    "print('%.3f' % jb_value )"
   ]
  },
  {
   "cell_type": "markdown",
   "metadata": {},
   "source": [
    "#### 6.2.8"
   ]
  },
  {
   "cell_type": "code",
   "execution_count": 63,
   "metadata": {},
   "outputs": [
    {
     "data": {
      "text/plain": [
       "0.2345974610623358"
      ]
     },
     "execution_count": 63,
     "metadata": {},
     "output_type": "execute_result"
    }
   ],
   "source": [
    "anderson(data, dist='norm')[0]"
   ]
  },
  {
   "cell_type": "markdown",
   "metadata": {},
   "source": [
    "#### 6.2.11"
   ]
  },
  {
   "cell_type": "code",
   "execution_count": 64,
   "metadata": {},
   "outputs": [
    {
     "name": "stdout",
     "output_type": "stream",
     "text": [
      "1.342\n"
     ]
    }
   ],
   "source": [
    "X = [156, 171, 133, 102, 129, 150, 120, 110, 112, 130]\n",
    "Y = [73, 81, 103, 88, 131, 106, 107, 111, 122, 108]\n",
    "bounds = [70, 80, 90, 100, 110, 120, 130, 140, 150, 160, 172]\n",
    "n = len(X)\n",
    "m = len(Y)\n",
    "N = n + m\n",
    "ni_X = [0] * n\n",
    "ni_Y = [0] * m\n",
    "Pi_X = [0] * n\n",
    "Pi_Y = [0] * m\n",
    "\n",
    "j = 0\n",
    "\n",
    "for x_i in np.sort(X):\n",
    "    while (x_i >= bounds[j + 1]):\n",
    "        j += 1\n",
    "\n",
    "    if x_i < bounds[j + 1]:\n",
    "        ni_X[j] += 1\n",
    "    else:\n",
    "        j += 1\n",
    "        ni_X[j] += 1\n",
    "\n",
    "j = 0\n",
    "\n",
    "for y_i in np.sort(Y):\n",
    "    while (y_i >= bounds[j + 1]):\n",
    "        j += 1\n",
    "\n",
    "    if y_i < bounds[j + 1]:\n",
    "        ni_Y[j] += 1\n",
    "    else:\n",
    "        j += 1\n",
    "        ni_Y[j] += 1     \n",
    "\n",
    "pi_X = [ni_X[i] / n for i in range(n)]\n",
    "pi_Y = [ni_Y[i] / m for i in range(n)]\n",
    "\n",
    "for i in range(n):\n",
    "    Pi_X[i] = sum([round(pi_X[j], 1) for j in range(i)])\n",
    "    Pi_Y[i] = sum([round(pi_Y[j], 1) for j in range(i)])\n",
    "\n",
    "Dmn = max([abs(Pi_X[i] - Pi_Y[i]) for i in range(n)])\n",
    "Stat = Dmn * np.sqrt(m * n / (m + n))\n",
    "\n",
    "print('%.3f' % Stat)\n"
   ]
  },
  {
   "cell_type": "markdown",
   "metadata": {},
   "source": [
    "#### 6.2.15"
   ]
  },
  {
   "cell_type": "code",
   "execution_count": 65,
   "metadata": {},
   "outputs": [
    {
     "name": "stdout",
     "output_type": "stream",
     "text": [
      "0.074\n"
     ]
    }
   ],
   "source": [
    "alpha = 0.05\n",
    "X = [200, 190, 195, 190, 194, 202, 202, 207, 205, 220, 213, 196, 203]\n",
    "Y = [205, 202, 218, 213, 198, 198, 195, 204, 197, 202, 201, 205, 201, 197, 198, 197, 209]\n",
    "n = len(X)\n",
    "m = len(Y)\n",
    "N = n + m\n",
    "bounds = [189, 200, 210, 221]\n",
    "k = len(bounds) - 1\n",
    "ni_X = [0] * k\n",
    "ni_Y = [0] * k\n",
    "\n",
    "j = 0\n",
    "\n",
    "for x_i in np.sort(X):\n",
    "    while (x_i > bounds[j + 1]):\n",
    "        j += 1\n",
    "\n",
    "    if x_i <= bounds[j + 1]:\n",
    "        ni_X[j] += 1\n",
    "    else:\n",
    "        j += 1\n",
    "        ni_X[j] += 1\n",
    "\n",
    "j = 0\n",
    "\n",
    "for y_i in np.sort(Y):\n",
    "    while (y_i > bounds[j + 1]):\n",
    "        j += 1\n",
    "\n",
    "    if y_i <= bounds[j + 1]:\n",
    "        ni_Y[j] += 1\n",
    "    else:\n",
    "        j += 1\n",
    "        ni_Y[j] += 1\n",
    "\n",
    "pi_X = [ni_X[i] / n for i in range(k)]\n",
    "pi_Y = [ni_Y[i] / m for i in range(k)]\n",
    "\n",
    "Pi_X = [pi_X[i] * N for i in range(k)]\n",
    "Pi_Y = [pi_Y[i] * N for i in range(k)]\n",
    "\n",
    "for i in range(k-1, -1, -1):\n",
    "    if (Pi_X[i] < 5) & (Pi_Y[i] < 5) :\n",
    "        Pi_X[i-1] += Pi_X[i]\n",
    "        Pi_X.pop(i)\n",
    "        pi_X[i-1] += pi_X[i]\n",
    "        pi_X.pop(i)\n",
    "        ni_X[i-1] += ni_X[i]\n",
    "        ni_X.pop(i)\n",
    "        Pi_Y[i-1] += Pi_Y[i]\n",
    "        Pi_Y.pop(i)\n",
    "        pi_Y[i-1] += pi_Y[i]\n",
    "        pi_Y.pop(i)\n",
    "        ni_Y[i-1] += ni_Y[i]\n",
    "        ni_Y.pop(i)\n",
    "    else:\n",
    "        k = i + 1\n",
    "        break\n",
    "        \n",
    "nu = [ni_X[i] + ni_Y[i] for i in range(k)]         \n",
    "\n",
    "\n",
    "Stat_X = [(ni_X[i] - nu[i] * n / N) ** 2 / nu[i] / n for i in range(k)]\n",
    "Stat_Y = [(ni_Y[i] - nu[i] * m / N) ** 2 / nu[i] / m for i in range(k)]\n",
    "chi2_sample = N * (sum(Stat_X) + sum(Stat_Y)) \n",
    "\n",
    "print('{:.3f}'.format(chi2_sample))\n"
   ]
  },
  {
   "cell_type": "markdown",
   "metadata": {},
   "source": [
    "#### 6.2.16"
   ]
  },
  {
   "cell_type": "code",
   "execution_count": 66,
   "metadata": {},
   "outputs": [
    {
     "name": "stdout",
     "output_type": "stream",
     "text": [
      "0.010\n"
     ]
    }
   ],
   "source": [
    "alpha = 0.05\n",
    "X = [200, 190, 195, 190, 194, 202, 202, 207, 205, 220, 213, 196, 203]\n",
    "Y = [205, 202, 218, 213, 198, 198, 195, 204, 197, 202, 201, 205, 201, 197, 198, 197, 209]\n",
    "n = len(X)\n",
    "m = len(Y)\n",
    "N = n + m\n",
    "bounds = [189, 200, 210, 221]\n",
    "k = len(bounds) - 1\n",
    "ni_X = [0] * k\n",
    "ni_Y = [0] * k\n",
    "\n",
    "j = 0\n",
    "\n",
    "for x_i in np.sort(X):\n",
    "    while (x_i > bounds[j + 1]):\n",
    "        j += 1\n",
    "\n",
    "    if x_i <= bounds[j + 1]:\n",
    "        ni_X[j] += 1\n",
    "    else:\n",
    "        j += 1\n",
    "        ni_X[j] += 1\n",
    "\n",
    "j = 0\n",
    "\n",
    "for y_i in np.sort(Y):\n",
    "    while (y_i > bounds[j + 1]):\n",
    "        j += 1\n",
    "\n",
    "    if y_i <= bounds[j + 1]:\n",
    "        ni_Y[j] += 1\n",
    "    else:\n",
    "        j += 1\n",
    "        ni_Y[j] += 1\n",
    "\n",
    "pi_X = [ni_X[i] / n for i in range(k)]\n",
    "pi_Y = [ni_Y[i] / m for i in range(k)]\n",
    "\n",
    "Pi_X = [pi_X[i] * N for i in range(k)]\n",
    "Pi_Y = [pi_Y[i] * N for i in range(k)]\n",
    "\n",
    "for i in range(k-1, -1, -1):\n",
    "    if Pi_X[i] < 5:\n",
    "        Pi_X[i-1] += Pi_X[i]\n",
    "        Pi_X.pop(i)\n",
    "        pi_X[i-1] += pi_X[i]\n",
    "        pi_X.pop(i)\n",
    "        ni_X[i-1] += ni_X[i]\n",
    "        ni_X.pop(i)\n",
    "    else:\n",
    "        break\n",
    "        \n",
    "for i in range(k-1, -1, -1):\n",
    "    if Pi_Y[i] < 5:\n",
    "        Pi_Y[i-1] += Pi_Y[i]\n",
    "        Pi_Y.pop(i)\n",
    "        pi_Y[i-1] += pi_Y[i]\n",
    "        pi_Y.pop(i)\n",
    "        ni_Y[i-1] += ni_Y[i]\n",
    "        ni_Y.pop(i)\n",
    "    else:\n",
    "        k = i + 1\n",
    "        break\n",
    "nu = [ni_X[i] + ni_Y[i] for i in range(k)]         \n",
    "\n",
    "\n",
    "Stat_X = [(abs(ni_X[i] - nu[i] * n / N) - 0.5) ** 2 / nu[i] / n * N for i in range(k)]\n",
    "Stat_Y = [(abs(ni_Y[i] - nu[i] * m / N) - 0.5) ** 2 / nu[i] / m * N for i in range(k)]\n",
    "chi2_sample = (sum(Stat_X) + sum(Stat_Y)) \n",
    "\n",
    "print('{:.3f}'.format(chi2_sample))\n"
   ]
  },
  {
   "cell_type": "markdown",
   "metadata": {},
   "source": [
    "### 6.3. Таблицы сопряженности\n",
    "#### 6.3.5"
   ]
  },
  {
   "cell_type": "code",
   "execution_count": 67,
   "metadata": {},
   "outputs": [
    {
     "name": "stdout",
     "output_type": "stream",
     "text": [
      "0.735\n"
     ]
    }
   ],
   "source": [
    "N = [\n",
    "    [20, 11],\n",
    "    [23, 17],\n",
    "    [19, 16]\n",
    "]\n",
    "ni = [0] * 2\n",
    "chi2_sample = 0\n",
    "\n",
    "mi = [sum(N[i]) for i in range(3)]\n",
    "\n",
    "for i in range(2):\n",
    "    for j in range(3):\n",
    "        ni[i] += N[j][i]\n",
    "        \n",
    "n = sum(ni)\n",
    "\n",
    "for i in range(3):\n",
    "    for j in range(2):\n",
    "        chi2_sample += (N[i][j] - mi[i] * ni[j] / n) ** 2 / mi[i] / ni[j] * n\n",
    "\n",
    "print('{:.3f}'.format(chi2_sample))\n"
   ]
  },
  {
   "cell_type": "markdown",
   "metadata": {},
   "source": [
    "#### 6.3.6"
   ]
  },
  {
   "cell_type": "code",
   "execution_count": 68,
   "metadata": {},
   "outputs": [
    {
     "name": "stdout",
     "output_type": "stream",
     "text": [
      "5.991, Н\n"
     ]
    }
   ],
   "source": [
    "N = [\n",
    "    [20, 11],\n",
    "    [23, 17],\n",
    "    [19, 16]\n",
    "]\n",
    "ni = [0] * 2\n",
    "chi2_sample = 0\n",
    "alpha = 0.05\n",
    "\n",
    "mi = [sum(N[i]) for i in range(3)]\n",
    "\n",
    "for i in range(2):\n",
    "    for j in range(3):\n",
    "        ni[i] += N[j][i]\n",
    "        \n",
    "n = sum(ni)\n",
    "\n",
    "for i in range(3):\n",
    "    for j in range(2):\n",
    "        chi2_sample += (N[i][j] - mi[i] * ni[j] / n) ** 2 / mi[i] / ni[j] * n\n",
    "        \n",
    "chi2_alpha = chi2.ppf(1 - alpha, 2)\n",
    "\n",
    "if chi2_sample < chi2_alpha:\n",
    "    Hyp = 'Н'\n",
    "else:\n",
    "    Hyp = 'З'\n",
    "    \n",
    "print('{:.3f}, {}'.format(chi2_alpha, Hyp))\n"
   ]
  },
  {
   "cell_type": "markdown",
   "metadata": {},
   "source": [
    "### 6.4. Задание на проверку гипотезы о законе распределения\n",
    "#### 6.4.1."
   ]
  },
  {
   "cell_type": "code",
   "execution_count": 69,
   "metadata": {},
   "outputs": [
    {
     "name": "stdout",
     "output_type": "stream",
     "text": [
      "0.82, 1.63, 1\n"
     ]
    }
   ],
   "source": [
    "X = [13.0, 9.8, 10.2, 12.9, 10.4]\n",
    "X.sort()\n",
    "N = len(X)\n",
    "a = 9\n",
    "b = 15\n",
    "alpha = 0.01\n",
    "d_alpha = 1.63\n",
    "Dn = 0\n",
    "\n",
    "# Вариант 1.\n",
    "\n",
    "F_0 = [(X[i] - a) / (b - a) for i in range(N)]\n",
    "F = [i / N for i in range(N + 1)]\n",
    "\n",
    "for i in range(N):\n",
    "    Dn = max(abs(F_0[i] - F[i]), abs(F_0[i] - F[i + 1]), Dn)\n",
    "\n",
    "Kstat = np.sqrt(N) * Dn\n",
    "\n",
    "if Kstat <= d_alpha:\n",
    "    Hyp = '1'\n",
    "else:\n",
    "    Hyp = '0'\n",
    "    \n",
    "print('{:.2f}, {:.2f}, {}'.format(Kstat, d_alpha, Hyp))\n"
   ]
  },
  {
   "cell_type": "markdown",
   "metadata": {},
   "source": [
    "#### 6.4.3"
   ]
  },
  {
   "cell_type": "code",
   "execution_count": 70,
   "metadata": {},
   "outputs": [
    {
     "data": {
      "image/png": "[encoded data removed]",
      "text/plain": [
       "<Figure size 432x288 with 1 Axes>"
      ]
     },
     "metadata": {
      "needs_background": "light"
     },
     "output_type": "display_data"
    },
    {
     "data": {
      "text/plain": [
       "0.18253241683559907"
      ]
     },
     "execution_count": 70,
     "metadata": {},
     "output_type": "execute_result"
    }
   ],
   "source": [
    "data = pd.read_csv('tcereals.txt', delimiter=\"\\t\")\n",
    "alpha = 0.03\n",
    "data = data.sort_values(by=['rating']).reset_index(drop=True)\n",
    "data['ln_rating'] = np.log(data['rating'])\n",
    "N = data.shape[0]\n",
    "\n",
    "sns.distplot(data['ln_rating'], hist=True)\n",
    "\n",
    "plt.show()\n",
    "\n",
    "data.head()\n",
    "\n",
    "shapiro(data['ln_rating'])[1]\n",
    "\n",
    "mu = np.mean(data['ln_rating'])\n",
    "sigma2 = np.var(data['ln_rating'])\n",
    "\n",
    "A2 = 0\n",
    "F_i = [norm.cdf(data['ln_rating'][i], loc=mu, scale=np.sqrt(sigma2)) for i in range(N)]\n",
    "F = [i / N for i in range(N + 1)]\n",
    "\n",
    "for i in range(1, N + 1):\n",
    "    A2 += (2 * i - 1) / N * (np.log(F_i[i - 1]) + np.log(1 - F_i[N - i]))\n",
    "    \n",
    "A2 = -A2 - N\n",
    "anderson(data['ln_rating'], dist='norm')[0]\n"
   ]
  },
  {
   "cell_type": "markdown",
   "metadata": {},
   "source": [
    "#### 6.4.4\n"
   ]
  },
  {
   "cell_type": "code",
   "execution_count": 71,
   "metadata": {},
   "outputs": [
    {
     "name": "stdout",
     "output_type": "stream",
     "text": [
      "2, 31.89, 0, 5.99, 1\n"
     ]
    }
   ],
   "source": [
    "alpha = 0.05\n",
    "ni_X = [120, 28, 2, 0]\n",
    "ni_Y = [74, 59, 15, 2]\n",
    "n = sum(ni_X)\n",
    "m = sum(ni_Y)\n",
    "N = n + m\n",
    "k = 3\n",
    "r = 2\n",
    "\n",
    "pi_X = [ni_X[i] / n for i in range(k)]\n",
    "pi_Y = [ni_Y[i] / m for i in range(k)]\n",
    "\n",
    "Pi_X = [pi_X[i] * N for i in range(k)]\n",
    "Pi_Y = [pi_Y[i] * N for i in range(k)]\n",
    "\n",
    "for i in range(k-1, -1, -1):\n",
    "    if (Pi_X[i] < 5) & (Pi_Y[i] < 5) :\n",
    "        Pi_X[i-1] += Pi_X[i]\n",
    "        Pi_X.pop(i)\n",
    "        pi_X[i-1] += pi_X[i]\n",
    "        pi_X.pop(i)\n",
    "        ni_X[i-1] += ni_X[i]\n",
    "        ni_X.pop(i)\n",
    "        Pi_Y[i-1] += Pi_Y[i]\n",
    "        Pi_Y.pop(i)\n",
    "        pi_Y[i-1] += pi_Y[i]\n",
    "        pi_Y.pop(i)\n",
    "        ni_Y[i-1] += ni_Y[i]\n",
    "        ni_Y.pop(i)\n",
    "    else:\n",
    "        k = i + 1\n",
    "        break\n",
    "        \n",
    "nu = [ni_X[i] + ni_Y[i] for i in range(k)]         \n",
    "\n",
    "\n",
    "Stat_X = [(ni_X[i] - nu[i] * n / N) ** 2 / nu[i] / n for i in range(k)]\n",
    "Stat_Y = [(ni_Y[i] - nu[i] * m / N) ** 2 / nu[i] / m for i in range(k)]\n",
    "chi2_sample = N * (sum(Stat_X) + sum(Stat_Y))\n",
    "chi2_alpha = chi2.ppf(1 - alpha, (k - 1) * (r - 1))\n",
    "\n",
    "if chi2_sample < chi2_alpha:\n",
    "    Hyp = '0'\n",
    "else:\n",
    "    Hyp = '1'\n",
    "\n",
    "print('{:.0f}, {:.2f}, 0, {:.2f}, {}'.format((k - 1) * (r - 1), chi2_sample, chi2_alpha, Hyp))\n"
   ]
  },
  {
   "cell_type": "markdown",
   "metadata": {},
   "source": [
    "## 7. Регрессионный анализ\n",
    "### 7.1. Множественная линейная регрессия\n",
    "#### 7.1.4"
   ]
  },
  {
   "cell_type": "code",
   "execution_count": 72,
   "metadata": {},
   "outputs": [
    {
     "name": "stdout",
     "output_type": "stream",
     "text": [
      "26.04\n"
     ]
    }
   ],
   "source": [
    "data = pd.read_csv('car_regr.txt', sep = '\\t')\n",
    "n = data.shape[0]\n",
    "\n",
    "mean_price = np.mean(data['price'])\n",
    "mean_year = np.mean(data['year'])\n",
    "Num = [data['year'][i] * data['price'][i] - mean_price * mean_year for i in range(n)]\n",
    "num = sum(Num)\n",
    "Den = [data['year'][i] ** 2 - mean_year **2 for i in range(n)]\n",
    "den = sum(Den)\n",
    "\n",
    "beta1 = num /den\n",
    "\n",
    "print('{:.2f}'.format(beta1))\n"
   ]
  },
  {
   "cell_type": "markdown",
   "metadata": {},
   "source": [
    "#### 7.1.5"
   ]
  },
  {
   "cell_type": "code",
   "execution_count": 73,
   "metadata": {},
   "outputs": [
    {
     "name": "stdout",
     "output_type": "stream",
     "text": [
      "-52090.27\n"
     ]
    }
   ],
   "source": [
    "data = pd.read_csv('car_regr.txt', sep = '\\t')\n",
    "n = data.shape[0]\n",
    "\n",
    "mean_price = np.mean(data['price'])\n",
    "mean_year = np.mean(data['year'])\n",
    "Num = [data['year'][i] * data['price'][i] - mean_price * mean_year for i in range(n)]\n",
    "num = sum(Num)\n",
    "Den = [data['year'][i] ** 2 - mean_year **2 for i in range(n)]\n",
    "den = sum(Den)\n",
    "beta1 = num /den\n",
    "\n",
    "beta0 = mean_price - beta1 * mean_year\n",
    "\n",
    "print('{:.2f}'.format(beta0))\n"
   ]
  },
  {
   "cell_type": "markdown",
   "metadata": {},
   "source": [
    "#### 7.1.6"
   ]
  },
  {
   "cell_type": "code",
   "execution_count": 74,
   "metadata": {},
   "outputs": [
    {
     "name": "stdout",
     "output_type": "stream",
     "text": [
      "132015.3\n"
     ]
    }
   ],
   "source": [
    "data = pd.read_csv('car_regr.txt', sep = '\\t')\n",
    "n = data.shape[0]\n",
    "\n",
    "mean_price = np.mean(data['price'])\n",
    "mean_year = np.mean(data['year'])\n",
    "Num = [data['year'][i] * data['price'][i] - mean_price * mean_year for i in range(n)]\n",
    "Den = [data['year'][i] ** 2 - mean_year **2 for i in range(n)]\n",
    "num = sum(Num)\n",
    "den = sum(Den)\n",
    "beta1 = num /den\n",
    "beta0 = mean_price - beta1 * mean_year\n",
    "\n",
    "RSS = sum([(data['price'][i] - data['year'][i] * beta1 - beta0) ** 2 for i in range(n)])\n",
    "\n",
    "print('{:.1f}'.format(RSS))\n"
   ]
  },
  {
   "cell_type": "markdown",
   "metadata": {},
   "source": [
    "#### 7.1.9"
   ]
  },
  {
   "cell_type": "code",
   "execution_count": 75,
   "metadata": {},
   "outputs": [
    {
     "name": "stdout",
     "output_type": "stream",
     "text": [
      "56.06\n"
     ]
    }
   ],
   "source": [
    "data = pd.read_csv('car_regr.txt', sep = '\\t')\n",
    "n = data.shape[0]\n",
    "\n",
    "mean_price = np.mean(data['price'])\n",
    "mean_year = np.mean(data['year'])\n",
    "Num = [data['year'][i] * data['price'][i] - mean_price * mean_year for i in range(n)]\n",
    "Den = [data['year'][i] ** 2 - mean_year **2 for i in range(n)]\n",
    "num = sum(Num)\n",
    "den = sum(Den)\n",
    "beta1 = num /den\n",
    "beta0 = mean_price - beta1 * mean_year\n",
    "\n",
    "RSS = sum([(data['price'][i] - data['year'][i] * beta1 - beta0) ** 2 for i in range(n)])\n",
    "S = np.sqrt(RSS / (n - 2))\n",
    "\n",
    "print('{:.2f}'.format(S))\n"
   ]
  },
  {
   "cell_type": "markdown",
   "metadata": {},
   "source": [
    "#### 7.1.10"
   ]
  },
  {
   "cell_type": "code",
   "execution_count": 76,
   "metadata": {},
   "outputs": [
    {
     "name": "stdout",
     "output_type": "stream",
     "text": [
      "6.4\n"
     ]
    }
   ],
   "source": [
    "data = pd.read_csv('car_regr.txt', sep = '\\t')\n",
    "n = data.shape[0]\n",
    "alpha = 0.05\n",
    "\n",
    "mean_price = np.mean(data['price'])\n",
    "mean_year = np.mean(data['year'])\n",
    "Num = [data['year'][i] * data['price'][i] - mean_price * mean_year for i in range(n)]\n",
    "Den = [data['year'][i] ** 2 - mean_year **2 for i in range(n)]\n",
    "num = sum(Num)\n",
    "den = sum(Den)\n",
    "beta1 = num /den\n",
    "beta0 = mean_price - beta1 * mean_year\n",
    "\n",
    "RSS = sum([(data['price'][i] - data['year'][i] * beta1 - beta0) ** 2 for i in range(n)])\n",
    "S = np.sqrt(RSS / (n - 2))\n",
    "\n",
    "t_alpha = t.ppf(1 - alpha/2, n - 2) * S * np.sqrt(1 / n / np.var(data['year']))\n",
    "\n",
    "print('{:.1f}'.format(t_alpha))\n"
   ]
  },
  {
   "cell_type": "markdown",
   "metadata": {},
   "source": [
    "#### 7.1.11"
   ]
  },
  {
   "cell_type": "code",
   "execution_count": 77,
   "metadata": {},
   "outputs": [
    {
     "name": "stdout",
     "output_type": "stream",
     "text": [
      "309\n"
     ]
    }
   ],
   "source": [
    "data = pd.read_csv('car_regr.txt', sep = '\\t')\n",
    "n = data.shape[0]\n",
    "alpha = 0.05\n",
    "\n",
    "mean_price = np.mean(data['price'])\n",
    "mean_year = np.mean(data['year'])\n",
    "Num = [data['year'][i] * data['price'][i] - mean_price * mean_year for i in range(n)]\n",
    "Den = [data['year'][i] ** 2 - mean_year **2 for i in range(n)]\n",
    "num = sum(Num)\n",
    "den = sum(Den)\n",
    "beta1 = num /den\n",
    "beta0 = mean_price - beta1 * mean_year\n",
    "P_2012 = 2012 * beta1 + beta0\n",
    "\n",
    "print('{:.0f}'.format(P_2012))"
   ]
  },
  {
   "cell_type": "markdown",
   "metadata": {},
   "source": [
    "#### 7.1.12\n"
   ]
  },
  {
   "cell_type": "code",
   "execution_count": 78,
   "metadata": {},
   "outputs": [
    {
     "name": "stdout",
     "output_type": "stream",
     "text": [
      "0.045\n"
     ]
    }
   ],
   "source": [
    "data = pd.read_csv('car_regr.txt', sep = '\\t')\n",
    "n = data.shape[0]\n",
    "alpha = 0.05\n",
    "\n",
    "mean_price = np.mean(data['price'])\n",
    "mean_year = np.mean(data['year'])\n",
    "Num = [data['year'][i] * data['price'][i] - mean_price * mean_year for i in range(n)]\n",
    "Den = [data['year'][i] ** 2 - mean_year **2 for i in range(n)]\n",
    "num = sum(Num)\n",
    "den = sum(Den)\n",
    "beta1 = num /den\n",
    "beta0 = mean_price - beta1 * mean_year\n",
    "P_2012 = 2012 * beta1 + beta0\n",
    "b = (- P_2012 + 290) / np.sqrt((1 + (2012 - mean_year) ** 2 / np.var(data['year'])) / n ) / S\n",
    "\n",
    "print('{:.3f}'.format(t.cdf(b, n - 2)))"
   ]
  },
  {
   "cell_type": "markdown",
   "metadata": {},
   "source": [
    "### 7.2. Анализ остатков\n",
    "#### 7.2.3"
   ]
  },
  {
   "cell_type": "code",
   "execution_count": 79,
   "metadata": {},
   "outputs": [
    {
     "name": "stdout",
     "output_type": "stream",
     "text": [
      "20.49\n"
     ]
    }
   ],
   "source": [
    "data = pd.read_csv('car_regr-1.txt', sep = '\\t')\n",
    "n = data.shape[0]\n",
    "\n",
    "data['z'] = np.nan\n",
    "\n",
    "for i in range(n):\n",
    "    if data['auto'][i] == 'MT':\n",
    "        data['z'][i] = 1\n",
    "    else:\n",
    "        data['z'][i] = 0\n",
    "\n",
    "Y = data['price']\n",
    "A = data[['year', 'mileage' , 'z']]\n",
    "A.insert(0, '1', np.ones(n), True)\n",
    "\n",
    "beta = np.linalg.lstsq(A, Y, rcond=None)[0]\n",
    "\n",
    "print('{:.2f}'.format(beta[1]))\n"
   ]
  },
  {
   "cell_type": "markdown",
   "metadata": {},
   "source": [
    "#### 7.2.4"
   ]
  },
  {
   "cell_type": "code",
   "execution_count": 80,
   "metadata": {},
   "outputs": [
    {
     "name": "stdout",
     "output_type": "stream",
     "text": [
      "-103.58\n"
     ]
    }
   ],
   "source": [
    "data = pd.read_csv('car_regr-1.txt', sep = '\\t')\n",
    "n = data.shape[0]\n",
    "\n",
    "data['z'] = np.nan\n",
    "\n",
    "for i in range(n):\n",
    "    if data['auto'][i] == 'MT':\n",
    "        data['z'][i] = 1\n",
    "    else:\n",
    "        data['z'][i] = 0\n",
    "\n",
    "Y = data['price']\n",
    "A = data[['year', 'mileage' , 'z']]\n",
    "A.insert(0, '1', np.ones(n), True)\n",
    "\n",
    "beta = np.linalg.lstsq(A, Y, rcond=None)[0]\n",
    "\n",
    "print('{:.2f}'.format(beta[3]))\n"
   ]
  },
  {
   "cell_type": "markdown",
   "metadata": {},
   "source": [
    "#### 7.2.6"
   ]
  },
  {
   "cell_type": "code",
   "execution_count": 81,
   "metadata": {},
   "outputs": [
    {
     "name": "stdout",
     "output_type": "stream",
     "text": [
      "0.007\n"
     ]
    }
   ],
   "source": [
    "data = pd.read_csv('car_regr-1.txt', sep = '\\t')\n",
    "n = data.shape[0]\n",
    "\n",
    "data['z'] = np.nan\n",
    "\n",
    "for i in range(n):\n",
    "    if data['auto'][i] == 'MT':\n",
    "        data['z'][i] = 1\n",
    "    else:\n",
    "        data['z'][i] = 0\n",
    "\n",
    "A = data[['year', 'mileage' , 'z']]\n",
    "A.insert(0, '1', np.ones(n), True)\n",
    "\n",
    "Ajj = np.linalg.inv(np.array(A.T).dot(np.array(A)))\n",
    "\n",
    "print('{:.3f}'.format(Ajj[1][1]))"
   ]
  },
  {
   "cell_type": "markdown",
   "metadata": {},
   "source": [
    "#### 7.2.8"
   ]
  },
  {
   "cell_type": "code",
   "execution_count": 82,
   "metadata": {},
   "outputs": [
    {
     "name": "stdout",
     "output_type": "stream",
     "text": [
      "0.473\n"
     ]
    }
   ],
   "source": [
    "k = 3\n",
    "alpha = 0.05\n",
    "\n",
    "beta = np.linalg.lstsq(A, Y, rcond=None)[0]\n",
    "RSS = sum((data['price'] - A.dot(beta)) ** 2)\n",
    "S = np.sqrt(RSS / (n - k - 1))\n",
    "\n",
    "t_alpha = t.ppf(1 - alpha/2, n - k - 1) * S * np.sqrt(Ajj[2][2])\n",
    "\n",
    "print('{:.3f}'.format(t_alpha))"
   ]
  },
  {
   "cell_type": "markdown",
   "metadata": {},
   "source": [
    "#### 7.2.10"
   ]
  },
  {
   "cell_type": "code",
   "execution_count": 83,
   "metadata": {},
   "outputs": [
    {
     "name": "stdout",
     "output_type": "stream",
     "text": [
      "0.75, 1\n"
     ]
    }
   ],
   "source": [
    "R2 = 1 - RSS / sum([(data['price'][i] - mean_price) ** 2 for i in range(n)])\n",
    "\n",
    "if R2 >= 0.5:\n",
    "    Hyp = '1'\n",
    "else:\n",
    "    Hyp = '0'\n",
    "    \n",
    "print('{:.2f}, {}'.format(R2, Hyp))"
   ]
  },
  {
   "cell_type": "markdown",
   "metadata": {},
   "source": [
    "#### 7.2.13"
   ]
  },
  {
   "cell_type": "code",
   "execution_count": 84,
   "metadata": {},
   "outputs": [
    {
     "name": "stdout",
     "output_type": "stream",
     "text": [
      "1.24\n"
     ]
    }
   ],
   "source": [
    "print('{:.2f}'.format((data['price'][1] - A.dot(beta)[1]) / S / np.sqrt(1 - np.dot(np.dot(A, Ajj), A.T)[1][1])))\n"
   ]
  },
  {
   "cell_type": "markdown",
   "metadata": {},
   "source": [
    "#### 7.2.15"
   ]
  },
  {
   "cell_type": "code",
   "execution_count": 85,
   "metadata": {},
   "outputs": [
    {
     "data": {
      "image/png": "[encoded data removed]",
      "text/plain": [
       "<Figure size 2880x360 with 2 Axes>"
      ]
     },
     "metadata": {
      "needs_background": "light"
     },
     "output_type": "display_data"
    },
    {
     "data": {
      "image/png": "[encoded data removed]",
      "text/plain": [
       "<Figure size 2880x360 with 2 Axes>"
      ]
     },
     "metadata": {
      "needs_background": "light"
     },
     "output_type": "display_data"
    },
    {
     "name": "stdout",
     "output_type": "stream",
     "text": [
      "+ Зависимость дисперсии ошибок наблюдений от X\n",
      "+ Зависимость дисперсии ошибок наблюдений от номера наблюдения\n",
      "Наличие выборосов в данных\n",
      "Зависимость дисперсии ошибок наблюдений от Y\n",
      "+ Неправильная спецификация модели\n",
      "Остатки ненормальны\n",
      "\n"
     ]
    }
   ],
   "source": [
    "X = [1.0, 1.5, 2.0, 2.5, 3.0, 3.5, 4.0, 4.5, 5.0, 5.5, 6.0, 6.5, 7.0, 7.5, 8.0, 8.5, 9.0, 9.5, 10.0]\n",
    "Y = [4.7, 8.9, 6.2, 7.8, 8.1, 11.7, 7.2, 15.8, 1.1, 6.8, 9.1, 4.6, 21.5, 7.6, 6.2, 13.6, 30.1, 25.5, -0.1]\n",
    "n = len(X)\n",
    "beta = [4.66, 1.03]\n",
    "\n",
    "Y_lr = beta[0] + np.array(X).dot(beta[1])\n",
    "ei = Y - Y_lr\n",
    "\n",
    "A = np.array([np.ones(n), X])\n",
    "Ajj = np.linalg.inv(np.array(A).dot(np.array(A.T)))\n",
    "di = [(Y[i] - Y_lr[i]) / S / np.sqrt(1 - np.dot(np.dot(A.T, Ajj), A)[i][i]) for i in range(n)]\n",
    "\n",
    "plt.figure(figsize=(40, 5))\n",
    "plt.subplot(1,2,1)\n",
    "sns.boxplot(Y_lr, di)\n",
    "plt.subplot(1,2,2)\n",
    "probplot(di, dist=\"norm\", plot=plt)\n",
    "\n",
    "plt.show()\n",
    "\n",
    "plt.figure(figsize=(40, 5))\n",
    "plt.subplot(1,2,1)\n",
    "sns.distplot(di, hist=True)\n",
    "plt.subplot(1,2,2)\n",
    "sns.boxplot(Y, di)\n",
    "\n",
    "plt.show()\n",
    "\n",
    "print('+ Зависимость дисперсии ошибок наблюдений от X\\n'\n",
    "'+ Зависимость дисперсии ошибок наблюдений от номера наблюдения\\n'\n",
    "'Наличие выборосов в данных\\n'\n",
    "'Зависимость дисперсии ошибок наблюдений от Y\\n'\n",
    "'+ Неправильная спецификация модели\\n'\n",
    "'Остатки ненормальны\\n')\n"
   ]
  },
  {
   "cell_type": "markdown",
   "metadata": {},
   "source": [
    "### 7.3. Корреляционный анализ\n",
    "#### 7.3.4"
   ]
  },
  {
   "cell_type": "code",
   "execution_count": 86,
   "metadata": {},
   "outputs": [
    {
     "name": "stdout",
     "output_type": "stream",
     "text": [
      "0.56\n"
     ]
    }
   ],
   "source": [
    "data = [\n",
    "    (3.25, 0.62), (2.51, 0.95), (1.46, 0.37), (2.37, 1.64), (2.45, 0.60),\n",
    "    (-0.07, 0.19), ( 3.78, 1.81), (0.53, 0.24), (2.09, 1.26), (1.74,-0.93)\n",
    "]\n",
    "n = len(data)\n",
    "X = [data[i][0] for i in range(n)]\n",
    "Y = [data[i][1] for i in range(n)]\n",
    "X_mean = np.mean(X)\n",
    "Y_mean = np.mean(Y)\n",
    "\n",
    "r = sum([(X[i] - X_mean) * (Y[i] - Y_mean) for i in range(n)]) / n / np.sqrt(np.var(X) * np.var(Y))\n",
    "\n",
    "print('{:.2f}'.format(r))"
   ]
  },
  {
   "cell_type": "markdown",
   "metadata": {},
   "source": [
    "#### 7.3.6"
   ]
  },
  {
   "cell_type": "code",
   "execution_count": 87,
   "metadata": {},
   "outputs": [
    {
     "name": "stdout",
     "output_type": "stream",
     "text": [
      "1.92, 0\n"
     ]
    }
   ],
   "source": [
    "data = [\n",
    "    (3.25, 0.62), (2.51, 0.95), (1.46, 0.37), (2.37, 1.64), (2.45, 0.60),\n",
    "    (-0.07, 0.19), ( 3.78, 1.81), (0.53, 0.24), (2.09, 1.26), (1.74,-0.93)\n",
    "]\n",
    "n = len(data)\n",
    "X = [data[i][0] for i in range(n)]\n",
    "Y = [data[i][1] for i in range(n)]\n",
    "X_mean = np.mean(X)\n",
    "Y_mean = np.mean(Y)\n",
    "alpha = 0.05\n",
    "\n",
    "r = sum([(X[i] - X_mean) * (Y[i] - Y_mean) for i in range(n)]) / n / np.sqrt(np.var(X) * np.var(Y))\n",
    "tstat = r * np.sqrt(n - 2) / np.sqrt(1 - r ** 2)\n",
    "\n",
    "if (tstat >= t.ppf(alpha/2, n-2)) & (tstat <= t.ppf(1 - alpha/2, n-2)):\n",
    "    Hyp = '0'\n",
    "else:\n",
    "    Hyp = '1'\n",
    "\n",
    "print('{:.2f}, {}'.format(tstat, Hyp))\n"
   ]
  },
  {
   "cell_type": "markdown",
   "metadata": {},
   "source": [
    "#### 7.3.8"
   ]
  },
  {
   "cell_type": "code",
   "execution_count": 88,
   "metadata": {},
   "outputs": [
    {
     "name": "stdout",
     "output_type": "stream",
     "text": [
      "0.9\n"
     ]
    }
   ],
   "source": [
    "r = [7, 2, 5, 9, 8, 1, 10, 4, 6, 3]\n",
    "s = [7, 4, 5, 10, 8, 2, 9, 3, 6, 1]\n",
    "n = len(r)\n",
    "\n",
    "r_s = 1 - 6 * sum([(s[i] - r[i]) ** 2 for i in range(n)]) / (n ** 3 - n)\n",
    "\n",
    "print('{:.1f}'.format(r_s))\n"
   ]
  },
  {
   "cell_type": "markdown",
   "metadata": {},
   "source": [
    "#### 7.3.10"
   ]
  },
  {
   "cell_type": "code",
   "execution_count": 89,
   "metadata": {},
   "outputs": [
    {
     "name": "stdout",
     "output_type": "stream",
     "text": [
      "0.8\n",
      "0.8\n"
     ]
    }
   ],
   "source": [
    "r = [7, 2, 5, 9, 8, 1, 10, 4, 6, 3]\n",
    "s = [7, 4, 5, 10, 8, 2, 9, 3, 6, 1]\n",
    "n = len(r)\n",
    "C = 0\n",
    "D = 0\n",
    "\n",
    "\n",
    "# Вариант 1\n",
    "\n",
    "r_k = kendalltau(r, s)[0]\n",
    "\n",
    "print('{:.1f}'.format(r_k))\n",
    "\n",
    "\n",
    "# Вариант 2\n",
    "\n",
    "for i in range(n-1):\n",
    "    for j in range(i+1, n):\n",
    "        if (r[i] < r[j]) and (s[i] < s[j]):\n",
    "            C += 1\n",
    "        if (r[i] > r[j]) and (s[i] > s[j]):\n",
    "            C += 1\n",
    "            \n",
    "D = n * (n - 1) / 2 - C\n",
    "\n",
    "r_k = 2 * (C - D) / n / (n - 1)\n",
    "\n",
    "print('{:.1f}'.format(r_k))\n"
   ]
  },
  {
   "cell_type": "markdown",
   "metadata": {},
   "source": [
    "### 7.4. Задание на построение линейной регрессии\n",
    "#### 7.4.2\n",
    "Постройте линейную регрессионную модель зависимости веса новорожденного от расы и образования матери, срока беременности, а также информации о курении матери во время беременности.\n",
    "\n",
    "Формат файла:\n",
    "    \n",
    "    столбец 1: раса (1 – негроидная, 0 - другая)\n",
    "    столбец 2: образование (от 0 до 16)\n",
    "    столбец 3: курила ли (1 да, 0 нет)\n",
    "    столбец 4: срок беременности (в неделях)\n",
    "    столбец 5: вес новорожденного (в граммах) \n",
    "\n",
    "Пусть фиктивные переменные для расы и для курения принимают те же значения, что и сами переменные."
   ]
  },
  {
   "cell_type": "code",
   "execution_count": 90,
   "metadata": {},
   "outputs": [
    {
     "name": "stdout",
     "output_type": "stream",
     "text": [
      "-2841.38\n"
     ]
    }
   ],
   "source": [
    "data = pd.read_csv('weights.txt', delimiter=\"\\t\")\n",
    "\n",
    "n = data.shape[0]\n",
    "\n",
    "Y = data['weight']\n",
    "A = data[['race', 'educ' , 'smoke', 'preg']]\n",
    "A.insert(0, '1', np.ones(n), True)\n",
    "\n",
    "beta = np.linalg.lstsq(A, Y, rcond=None)[0]\n",
    "\n",
    "print('{:.2f}'.format(beta[0]))"
   ]
  },
  {
   "cell_type": "markdown",
   "metadata": {},
   "source": [
    "#### 7.4.3"
   ]
  },
  {
   "cell_type": "code",
   "execution_count": 91,
   "metadata": {},
   "outputs": [
    {
     "name": "stdout",
     "output_type": "stream",
     "text": [
      "-211.57\n"
     ]
    }
   ],
   "source": [
    "data = pd.read_csv('weights.txt', delimiter=\"\\t\")\n",
    "\n",
    "n = data.shape[0]\n",
    "\n",
    "Y = data['weight']\n",
    "A = data[['race', 'educ' , 'smoke', 'preg']]\n",
    "A.insert(0, '1', np.ones(n), True)\n",
    "\n",
    "beta = np.linalg.lstsq(A, Y, rcond=None)[0]\n",
    "\n",
    "\n",
    "print('{:.2f}'.format(beta[1]))\n",
    "\n"
   ]
  },
  {
   "cell_type": "markdown",
   "metadata": {},
   "source": [
    "#### 7.4.4"
   ]
  },
  {
   "cell_type": "code",
   "execution_count": 92,
   "metadata": {},
   "outputs": [
    {
     "name": "stdout",
     "output_type": "stream",
     "text": [
      "193390.3\n"
     ]
    }
   ],
   "source": [
    "data = pd.read_csv('weights.txt', delimiter=\"\\t\")\n",
    "\n",
    "n = data.shape[0]\n",
    "k = 4\n",
    "\n",
    "Y = data['weight']\n",
    "A = data[['race', 'educ' , 'smoke', 'preg']]\n",
    "A.insert(0, '1', np.ones(n), True)\n",
    "\n",
    "beta = np.linalg.lstsq(A, Y, rcond=None)[0]\n",
    "\n",
    "Y_lr = A.dot(beta)\n",
    "ei = Y - Y_lr\n",
    "\n",
    "RSS = sum((data['weight'] - Y_lr) ** 2)\n",
    "S2 = RSS / (n - k - 1)\n",
    "\n",
    "print('{:.1f}'.format(S2))\n"
   ]
  },
  {
   "cell_type": "markdown",
   "metadata": {},
   "source": [
    "#### 7.4.5"
   ]
  },
  {
   "cell_type": "code",
   "execution_count": 93,
   "metadata": {},
   "outputs": [
    {
     "name": "stdout",
     "output_type": "stream",
     "text": [
      "55.38\n"
     ]
    }
   ],
   "source": [
    "data = pd.read_csv('weights.txt', delimiter=\"\\t\")\n",
    "\n",
    "n = data.shape[0]\n",
    "k = 4\n",
    "alpha = 0.05\n",
    "\n",
    "Y = data['weight']\n",
    "A = data[['race', 'educ' , 'smoke', 'preg']]\n",
    "A.insert(0, '1', np.ones(n), True)\n",
    "\n",
    "beta = np.linalg.lstsq(A, Y, rcond=None)[0]\n",
    "\n",
    "Y_lr = A.dot(beta)\n",
    "ei = Y - Y_lr\n",
    "\n",
    "RSS = sum( ei ** 2)\n",
    "S = np.sqrt(RSS / (n - k - 1))\n",
    "\n",
    "Ajj = np.linalg.inv(np.array(A.T).dot(np.array(A)))\n",
    "\n",
    "t_alpha = t.ppf(1 - alpha/2, n - k - 1) * S * np.sqrt(Ajj[4][4])\n",
    "\n",
    "print('{:.2f}'.format(t_alpha))\n"
   ]
  },
  {
   "cell_type": "markdown",
   "metadata": {},
   "source": [
    "#### 7.4.6"
   ]
  },
  {
   "cell_type": "code",
   "execution_count": 94,
   "metadata": {},
   "outputs": [
    {
     "name": "stdout",
     "output_type": "stream",
     "text": [
      "0.34\n"
     ]
    }
   ],
   "source": [
    "data = pd.read_csv('weights.txt', delimiter=\"\\t\")\n",
    "\n",
    "n = data.shape[0]\n",
    "k = 4\n",
    "alpha = 0.05\n",
    "\n",
    "Y = data['weight']\n",
    "A = data[['race', 'educ' , 'smoke', 'preg']]\n",
    "Y_mean = np.mean(Y)\n",
    "A.insert(0, '1', np.ones(n), True)\n",
    "\n",
    "beta = np.linalg.lstsq(A, Y, rcond=None)[0]\n",
    "Y_lr = A.dot(beta)\n",
    "ei = Y - Y_lr\n",
    "RSS = sum( ei ** 2)\n",
    "R2 = 1 - RSS / sum([(Y[i] - Y_mean) ** 2 for i in range(n)])\n",
    "\n",
    "print('{:.2f}'.format(R2))\n"
   ]
  },
  {
   "cell_type": "markdown",
   "metadata": {},
   "source": [
    "#### 7.4.7"
   ]
  },
  {
   "cell_type": "code",
   "execution_count": 95,
   "metadata": {},
   "outputs": [
    {
     "name": "stdout",
     "output_type": "stream",
     "text": [
      "0.00\n"
     ]
    }
   ],
   "source": [
    "F = R2 / (1 - R2) * (n - k -1) / k\n",
    "\n",
    "p_value = f.cdf(F, 1-alpha/2, k, n - k - 1)\n",
    "print('{:.2f}'.format(p_value))"
   ]
  },
  {
   "cell_type": "markdown",
   "metadata": {},
   "source": [
    "#### 7.4.8"
   ]
  },
  {
   "cell_type": "code",
   "execution_count": 96,
   "metadata": {},
   "outputs": [
    {
     "name": "stdout",
     "output_type": "stream",
     "text": [
      "['nan', '0.00', '0.14', '0.48', '0.00']\n"
     ]
    }
   ],
   "source": [
    "p_values = [pearsonr(A[i], Y)[1] for i in A.columns]\n",
    "\n",
    "print(['{:.2f}'.format(p_values[i]) for i in range(len(p_values))])\n"
   ]
  },
  {
   "cell_type": "markdown",
   "metadata": {},
   "source": [
    "#### 7.4.9"
   ]
  },
  {
   "cell_type": "code",
   "execution_count": 97,
   "metadata": {},
   "outputs": [
    {
     "name": "stdout",
     "output_type": "stream",
     "text": [
      "1320.1\n"
     ]
    }
   ],
   "source": [
    "AIC = 2 * k + n * (np.log(RSS / n) + 1)\n",
    "\n",
    "print('{:.1f}'.format(AIC))\n"
   ]
  },
  {
   "cell_type": "markdown",
   "metadata": {},
   "source": [
    "#### 7.4.10"
   ]
  },
  {
   "cell_type": "code",
   "execution_count": 98,
   "metadata": {},
   "outputs": [
    {
     "name": "stdout",
     "output_type": "stream",
     "text": [
      "1316.6\n"
     ]
    }
   ],
   "source": [
    "data = pd.read_csv('weights.txt', delimiter=\"\\t\")\n",
    "\n",
    "n = data.shape[0]\n",
    "k = 2\n",
    "alpha = 0.05\n",
    "\n",
    "Y = data['weight']\n",
    "A = data[['race', 'preg']]\n",
    "A.insert(0, '1', np.ones(n), True)\n",
    "\n",
    "beta = np.linalg.lstsq(A, Y, rcond=None)[0]\n",
    "\n",
    "Y_lr = A.dot(beta)\n",
    "ei = Y - Y_lr\n",
    "RSS = sum( ei ** 2)\n",
    "\n",
    "AIC = 2 * k + n * (np.log(RSS / n) + 1)\n",
    "\n",
    "print('{:.1f}'.format(AIC))\n"
   ]
  },
  {
   "cell_type": "markdown",
   "metadata": {},
   "source": [
    "## 8. Заключительный модуль \n",
    "### 8.1. Итоговый тест\n",
    "#### 8.1.2"
   ]
  },
  {
   "cell_type": "markdown",
   "metadata": {},
   "source": [
    "    + Критическая область является дополнением области принятия гипотеза\n",
    "    + С ростом объема выборки мощность критерия увеличивается\n",
    "      С уменьшением объема выборки вероятность ошибки 1го рода увеличивается\n",
    "    + С ростом объема выборки дисперсия выборочного среднего уменьшается\n",
    "    + Точечная оценка является случайной величиной\n",
    "      Выборочное среднее является смещенной оценкой мат.ожидания\n",
    "      Уровень значимости статистического критерия равен вероятности того, что нулевая гипотеза верна\n",
    "      С уменьшением уровня значимости, мощность увеличивается "
   ]
  },
  {
   "cell_type": "markdown",
   "metadata": {},
   "source": [
    "#### 8.1.3"
   ]
  },
  {
   "cell_type": "code",
   "execution_count": 99,
   "metadata": {},
   "outputs": [
    {
     "name": "stdout",
     "output_type": "stream",
     "text": [
      "113.00, 113.50, 76.75\n"
     ]
    }
   ],
   "source": [
    "X = [\n",
    "    128, 107, 107, 92, 118, 114, 117, 109, 115, 106, 109, 106, 109, 120, 112, 128, 114, 119, 110, 130\n",
    "]\n",
    "\n",
    "print('{:.2f}, {:.2f}, {:.2f}'.format(np.median(X), np.mean(X), np.var(X)))\n"
   ]
  },
  {
   "cell_type": "markdown",
   "metadata": {},
   "source": [
    "#### 8.1.4"
   ]
  },
  {
   "cell_type": "code",
   "execution_count": 100,
   "metadata": {},
   "outputs": [
    {
     "name": "stdout",
     "output_type": "stream",
     "text": [
      "2.0, 0.2\n"
     ]
    }
   ],
   "source": [
    "lmbd = 2\n",
    "n = 10\n",
    "\n",
    "print('{:.1f}, {:.1f}'.format(lmbd, lmbd / n))\n"
   ]
  },
  {
   "cell_type": "markdown",
   "metadata": {},
   "source": [
    "#### 8.1.5"
   ]
  },
  {
   "cell_type": "code",
   "execution_count": 101,
   "metadata": {},
   "outputs": [
    {
     "name": "stdout",
     "output_type": "stream",
     "text": [
      "0.417\n"
     ]
    }
   ],
   "source": [
    "print('{:.3f}'.format(10 / 24))\n"
   ]
  },
  {
   "cell_type": "markdown",
   "metadata": {},
   "source": [
    "#### 8.1.6"
   ]
  },
  {
   "cell_type": "code",
   "execution_count": 102,
   "metadata": {},
   "outputs": [
    {
     "name": "stdout",
     "output_type": "stream",
     "text": [
      "0.500\n"
     ]
    }
   ],
   "source": [
    "print('{:.3f}'.format(1/2))\n"
   ]
  },
  {
   "cell_type": "markdown",
   "metadata": {},
   "source": [
    "#### 8.1.7"
   ]
  },
  {
   "cell_type": "code",
   "execution_count": 103,
   "metadata": {},
   "outputs": [
    {
     "name": "stdout",
     "output_type": "stream",
     "text": [
      "0.049, H0\n"
     ]
    }
   ],
   "source": [
    "data = [\n",
    "    128, 107, 107, 92, 118, 114, 117, 109, 115, 106, 109, 106, 109, 120, 112, 128, 114, 119, 110, 130\n",
    "]\n",
    "\n",
    "alpha = 0.03 \n",
    "n = len(data)\n",
    "s2 = np.var(data) / (n - 1) * n              # несмещенная оценка дисперсии\n",
    "a = np.mean(data)        # средний стаж\n",
    "a_0 = 110\n",
    "\n",
    "Z_sample = (a - a_0) / math.sqrt(s2 / n)        #выборочная статистика\n",
    "t_alpha = t.ppf(1 - alpha, n - 1)\n",
    "p_value = 1 - t.cdf(Z_sample, n - 1)\n",
    "\n",
    "if H_sample > chi2_alpha:\n",
    "    Hyp = 'H0'\n",
    "else:\n",
    "    Hyp = 'H1'\n",
    "    \n",
    "print('{:.3f}, {}'.format(p_value, Hyp))"
   ]
  },
  {
   "cell_type": "markdown",
   "metadata": {},
   "source": [
    "#### 8.1.8"
   ]
  },
  {
   "cell_type": "code",
   "execution_count": 104,
   "metadata": {},
   "outputs": [
    {
     "name": "stdout",
     "output_type": "stream",
     "text": [
      "4, 0, 2, 1\n"
     ]
    }
   ],
   "source": [
    "X = [79.2, 65.0, 72.7, 77.1, 34.8, 33.4, 54.3, 35.5, 49.2]\n",
    "Y = [75, 67, 60.8, 50, 45.2, 44.6, 43.6, 40, 39.6]\n",
    "n = len(X)\n",
    "L = 0\n",
    "alpha = 0.05\n",
    "c2 = 1\n",
    "\n",
    "m = 0\n",
    "\n",
    "for i in range(0, n):\n",
    "    a = X[i] - Y[i]\n",
    "    if a < 0:\n",
    "        L += 1\n",
    "    if a == 0:\n",
    "        m += 1\n",
    "n = n - m\n",
    "        \n",
    "print('{:.0f}, {:.0f}, {:.0f}, {}'.format(L, 0, c2 + 1, 1))"
   ]
  },
  {
   "cell_type": "markdown",
   "metadata": {},
   "source": [
    "#### 8.1.9"
   ]
  },
  {
   "cell_type": "code",
   "execution_count": 105,
   "metadata": {},
   "outputs": [
    {
     "name": "stdout",
     "output_type": "stream",
     "text": [
      "2.59, 63.86, 2.38, 0\n"
     ]
    }
   ],
   "source": [
    "means = [3.17, 2.72, 2.63, 2.29, 2.12]\n",
    "disps = [0.5476, 0.5041, 0.5329, 0.49, 0.5184]\n",
    "Mean = np.mean(means)\n",
    "n = 200\n",
    "k = 5\n",
    "N = n * k\n",
    "alpha = 0.05\n",
    "\n",
    "Q1, Q2, Sum = 0, 0, 0\n",
    "\n",
    "for j in range(k):\n",
    "    Q2 += n * (means[j] - Mean) ** 2\n",
    "    Q1 += disps[j] * n\n",
    "\n",
    "sigma2_pe = Q1 / (N - k)\n",
    "sigma2_H0_pe = Q2 / (k - 1)\n",
    "F_sample = sigma2_H0_pe / sigma2_pe\n",
    "Vk_b = f.ppf(1 - alpha, k - 1, N - k)\n",
    "\n",
    "if F_sample > Vk_b:\n",
    "    H = '0'\n",
    "else:\n",
    "    H = '1'\n",
    "\n",
    "print('{:.2f}, {:.2f}, {:.2f}, {}'.format(Mean, F_sample, Vk_b, H))\n"
   ]
  },
  {
   "cell_type": "markdown",
   "metadata": {},
   "source": [
    "#### 8.1.10"
   ]
  },
  {
   "cell_type": "code",
   "execution_count": 106,
   "metadata": {},
   "outputs": [
    {
     "name": "stdout",
     "output_type": "stream",
     "text": [
      "289.54, -12.09, 11423.92, 1, 1\n"
     ]
    }
   ],
   "source": [
    "d = {\n",
    "    '1': [1, 1, 1, 1, 1, 1, 1, 1, 1, 1],\n",
    "    'X': [19.5, 15.0, 13.5, 23.3, 6.3, 2.5, 13.0, 1.8, 6.5, 1.8],\n",
    "    'Y': [0.0, 38.5, 59.0, 97.4, 119.2, 129.5, 198.7, 248.7, 318.0, 438.5]\n",
    "}\n",
    "\n",
    "data = pd.DataFrame(data=d)\n",
    "Y = data['Y']\n",
    "A = data[['1', 'X']]\n",
    "beta = np.linalg.lstsq(A, Y, rcond=None)[0]\n",
    "n = data.shape[0]\n",
    "RSS = sum((data['Y'] - A.dot(beta)) ** 2)\n",
    "S = RSS / (n - 2)\n",
    "\n",
    "print('{:.2f}, {:.2f}, {:.2f}, 1, 1'.format(beta[0], beta[1], S))\n"
   ]
  }
 ],
 "metadata": {
  "kernelspec": {
   "display_name": "Python 3",
   "language": "python",
   "name": "python3"
  },
  "language_info": {
   "codemirror_mode": {
    "name": "ipython",
    "version": 3
   },
   "file_extension": ".py",
   "mimetype": "text/x-python",
   "name": "python",
   "nbconvert_exporter": "python",
   "pygments_lexer": "ipython3",
   "version": "3.7.4"
  }
 },
 "nbformat": 4,
 "nbformat_minor": 2
}
